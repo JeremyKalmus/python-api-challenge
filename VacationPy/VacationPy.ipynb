{
 "cells": [
  {
   "cell_type": "markdown",
   "metadata": {},
   "source": [
    "# VacationPy\n",
    "----\n",
    "\n",
    "#### Note\n",
    "* Keep an eye on your API usage. Use https://developers.google.com/maps/reporting/gmp-reporting as reference for how to monitor your usage and billing.\n",
    "\n",
    "* Instructions have been included for each segment. You do not have to follow them exactly, but they are included to help you think through the steps."
   ]
  },
  {
   "cell_type": "code",
   "execution_count": 11,
   "metadata": {},
   "outputs": [],
   "source": [
    "# Dependencies and Setup\n",
    "import matplotlib.pyplot as plt\n",
    "import pandas as pd\n",
    "import numpy as np\n",
    "import requests\n",
    "import gmaps\n",
    "import os\n",
    "\n",
    "# Import API key\n",
    "from config import gkey"
   ]
  },
  {
   "cell_type": "markdown",
   "metadata": {},
   "source": [
    "### Store Part I results into DataFrame\n",
    "* Load the csv exported in Part I to a DataFrame"
   ]
  },
  {
   "cell_type": "code",
   "execution_count": 12,
   "metadata": {},
   "outputs": [
    {
     "output_type": "execute_result",
     "data": {
      "text/plain": [
       "   Unnamed: 0           City    Lat     Lon  Temp Max  Humidity  Cloudiness  \\\n",
       "0           0        Mataura -46.19  168.86     57.99        72           0   \n",
       "1           1         Marawi   8.00  124.29     82.99        77         100   \n",
       "2           2      Ilulissat  69.22  -51.10      5.97        92          80   \n",
       "3           3  Srednekolymsk  67.45  153.68     -8.37        90          86   \n",
       "4           4        Rikitea -23.12 -134.97     73.44        79           9   \n",
       "\n",
       "   Wind Speed Country        Date  \n",
       "0        8.01      NZ  1605062558  \n",
       "1        3.00      PH  1605062558  \n",
       "2        1.48      GL  1605062558  \n",
       "3       10.09      RU  1605062559  \n",
       "4       20.09      PF  1605062559  "
      ],
      "text/html": "<div>\n<style scoped>\n    .dataframe tbody tr th:only-of-type {\n        vertical-align: middle;\n    }\n\n    .dataframe tbody tr th {\n        vertical-align: top;\n    }\n\n    .dataframe thead th {\n        text-align: right;\n    }\n</style>\n<table border=\"1\" class=\"dataframe\">\n  <thead>\n    <tr style=\"text-align: right;\">\n      <th></th>\n      <th>Unnamed: 0</th>\n      <th>City</th>\n      <th>Lat</th>\n      <th>Lon</th>\n      <th>Temp Max</th>\n      <th>Humidity</th>\n      <th>Cloudiness</th>\n      <th>Wind Speed</th>\n      <th>Country</th>\n      <th>Date</th>\n    </tr>\n  </thead>\n  <tbody>\n    <tr>\n      <th>0</th>\n      <td>0</td>\n      <td>Mataura</td>\n      <td>-46.19</td>\n      <td>168.86</td>\n      <td>57.99</td>\n      <td>72</td>\n      <td>0</td>\n      <td>8.01</td>\n      <td>NZ</td>\n      <td>1605062558</td>\n    </tr>\n    <tr>\n      <th>1</th>\n      <td>1</td>\n      <td>Marawi</td>\n      <td>8.00</td>\n      <td>124.29</td>\n      <td>82.99</td>\n      <td>77</td>\n      <td>100</td>\n      <td>3.00</td>\n      <td>PH</td>\n      <td>1605062558</td>\n    </tr>\n    <tr>\n      <th>2</th>\n      <td>2</td>\n      <td>Ilulissat</td>\n      <td>69.22</td>\n      <td>-51.10</td>\n      <td>5.97</td>\n      <td>92</td>\n      <td>80</td>\n      <td>1.48</td>\n      <td>GL</td>\n      <td>1605062558</td>\n    </tr>\n    <tr>\n      <th>3</th>\n      <td>3</td>\n      <td>Srednekolymsk</td>\n      <td>67.45</td>\n      <td>153.68</td>\n      <td>-8.37</td>\n      <td>90</td>\n      <td>86</td>\n      <td>10.09</td>\n      <td>RU</td>\n      <td>1605062559</td>\n    </tr>\n    <tr>\n      <th>4</th>\n      <td>4</td>\n      <td>Rikitea</td>\n      <td>-23.12</td>\n      <td>-134.97</td>\n      <td>73.44</td>\n      <td>79</td>\n      <td>9</td>\n      <td>20.09</td>\n      <td>PF</td>\n      <td>1605062559</td>\n    </tr>\n  </tbody>\n</table>\n</div>"
     },
     "metadata": {},
     "execution_count": 12
    }
   ],
   "source": [
    "#import data from part 1\n",
    "pt1_df = \"../WeatherPy/Cities_Output_JK.csv\"\n",
    "pt1_df = pd.read_csv(pt1_df)\n",
    "pt1_df.head()"
   ]
  },
  {
   "cell_type": "markdown",
   "metadata": {},
   "source": [
    "### Humidity Heatmap\n",
    "* Configure gmaps.\n",
    "* Use the Lat and Lng as locations and Humidity as the weight.\n",
    "* Add Heatmap layer to map."
   ]
  },
  {
   "cell_type": "code",
   "execution_count": 13,
   "metadata": {},
   "outputs": [
    {
     "output_type": "display_data",
     "data": {
      "text/plain": "Figure(layout=FigureLayout(border='1px solid black', height='500px', margin='0 auto 0 auto', padding='1px', wi…",
      "application/vnd.jupyter.widget-view+json": {
       "version_major": 2,
       "version_minor": 0,
       "model_id": "b17984e754dc4278af2f149fb949bdae"
      }
     },
     "metadata": {}
    }
   ],
   "source": [
    "#configure Gmaps\n",
    "\n",
    "gmaps.configure(api_key=gkey)\n",
    "locations = pt1_df[['Lat', 'Lon']].astype(float).round(3)\n",
    "\n",
    "figure_layout = {\n",
    "    'width': '600px',\n",
    "    'height': '500px',\n",
    "    'border': '1px solid black',\n",
    "    'padding': '1px',\n",
    "    'margin': '0 auto 0 auto'\n",
    "}\n",
    "fig = gmaps.figure(layout=figure_layout)\n",
    "\n",
    "markers = gmaps.marker_layer(locations)\n",
    "# Add the layer to the map\n",
    "fig1 = gmaps.figure(layout=figure_layout, map_type='ROADMAP')\n",
    "heatmap_layer = gmaps.heatmap_layer(\n",
    "    pt1_df[['Lat', 'Lon']], weights=pt1_df[\"Humidity\"],\n",
    "    max_intensity=.75, point_radius=3.5, dissipating=False\n",
    ")\n",
    "fig1.add_layer(heatmap_layer)\n",
    "fig1\n",
    "\n",
    "\n",
    "\n",
    "\n",
    "\n"
   ]
  },
  {
   "cell_type": "code",
   "execution_count": null,
   "metadata": {},
   "outputs": [],
   "source": []
  },
  {
   "cell_type": "markdown",
   "metadata": {},
   "source": [
    "### Create new DataFrame fitting weather criteria\n",
    "* Narrow down the cities to fit weather conditions.\n",
    "* Drop any rows will null values."
   ]
  },
  {
   "cell_type": "code",
   "execution_count": 14,
   "metadata": {},
   "outputs": [
    {
     "output_type": "execute_result",
     "data": {
      "text/plain": [
       "     Unnamed: 0            City    Lat     Lon  Temp Max  Humidity  \\\n",
       "6             6        Pāsighāt  28.07   95.33     76.89        44   \n",
       "21           21    Batemans Bay -35.72  150.18     79.00        50   \n",
       "23           23  Saint-Philippe -21.36   55.77     73.40        60   \n",
       "50           50         Salalah  17.02   54.09     75.20        78   \n",
       "63           63          Kpandu   7.00    0.29     74.86        88   \n",
       "73           73     Santa Maria -29.68  -53.81     68.00        82   \n",
       "111         111          Álamos  27.02 -108.93     66.99        54   \n",
       "129         129    Marsá Maţrūḩ  31.35   27.25     65.98        59   \n",
       "141         141         Longyan  25.11  117.02     71.01        38   \n",
       "170         170       Abu Dhabi  24.47   54.37     77.00        88   \n",
       "172         172         Córdoba -31.41  -64.18     68.00        87   \n",
       "179         179            Tezu  27.92   96.17     78.64        39   \n",
       "189         189       Taoudenni  22.68   -3.98     75.11        20   \n",
       "193         193        Kot Diji  27.34   68.71     71.92        21   \n",
       "204         204        Douentza  15.00   -2.95     70.54        23   \n",
       "232         232      Tombouctou  20.00   -3.00     76.30        19   \n",
       "247         247      Xiangxiang  27.73  112.53     67.93        44   \n",
       "272         272          Jonuta  18.08  -92.13     70.32        86   \n",
       "295         295    Saint-Joseph -21.37   55.62     73.40        60   \n",
       "332         332           Dakar  14.69  -17.44     77.00        88   \n",
       "334         334         Yichang  30.71  111.28     70.02        36   \n",
       "356         356       Sārangpur  23.57   76.47     68.07        32   \n",
       "386         386            Tura  25.52   90.22     75.63        57   \n",
       "394         394       Pano Aqil  27.86   69.11     70.02        22   \n",
       "407         407             Sur  22.57   59.53     74.80        67   \n",
       "426         426    Saint-Pierre -21.34   55.48     73.40        60   \n",
       "432         432        Hurghada  27.26   33.81     68.00        37   \n",
       "442         442         Gambēla   8.25   34.58     70.16        77   \n",
       "448         448        Santarém  -2.44  -54.71     78.80        94   \n",
       "456         456         Khanpur  28.65   70.66     70.00        22   \n",
       "464         464          Beloha -25.17   45.05     72.12        88   \n",
       "508         508        Xiangfan  32.04  112.14     66.31        37   \n",
       "509         509       Guangzhou  23.12  113.25     73.99        33   \n",
       "527         527     Youkounkoun  12.53  -13.13     73.20        47   \n",
       "534         534        Ampanihy -24.70   44.75     72.75        84   \n",
       "560         560     Tsaratanana -16.78   47.65     70.61        66   \n",
       "562         562        Santa Fe -31.63  -60.70     71.01        61   \n",
       "566         566        Dzaoudzi -12.79   45.27     78.80        78   \n",
       "\n",
       "     Cloudiness  Wind Speed Country        Date Hotel Name  \n",
       "6             0        1.57      IN  1605062559             \n",
       "21            0        3.00      AU  1605062563             \n",
       "23            0        5.82      RE  1605062563             \n",
       "50            0        2.24      OM  1605062569             \n",
       "63            0        5.66      GH  1605062572             \n",
       "73            0        2.24      BR  1605062575             \n",
       "111           0        3.69      MX  1605062583             \n",
       "129           0        9.19      EG  1605062587             \n",
       "141           0        3.00      CN  1605062589             \n",
       "170           0        2.24      AE  1605062596             \n",
       "172           0        5.82      AR  1605062400             \n",
       "179           0        1.79      IN  1605062598             \n",
       "189           0        8.52      ML  1605062600             \n",
       "193           0        7.20      PK  1605062601             \n",
       "204           0        3.67      ML  1605062603             \n",
       "232           0        9.48      ML  1605062610             \n",
       "247           0        4.81      CN  1605062552             \n",
       "272           0        3.29      MX  1605062618             \n",
       "295           0        5.82      RE  1605062623             \n",
       "332           0        5.82      SN  1605062495             \n",
       "334           0        2.21      CN  1605062631             \n",
       "356           0        3.44      IN  1605062635             \n",
       "386           0        1.52      IN  1605062642             \n",
       "394           0        7.56      PK  1605062644             \n",
       "407           0        1.92      OM  1605062647             \n",
       "426           0        5.82      RE  1605062652             \n",
       "432           0        6.93      EG  1605062653             \n",
       "442           0        3.74      ET  1605062655             \n",
       "448           0        4.70      BR  1605062656             \n",
       "456           0        6.93      PK  1605062658             \n",
       "464           0        5.41      MG  1605062659             \n",
       "508           0        4.56      CN  1605062669             \n",
       "509           0        8.95      CN  1605062520             \n",
       "527           0        2.64      GN  1605062673             \n",
       "534           0        4.90      MG  1605062674             \n",
       "560           0        8.25      MG  1605062679             \n",
       "562           0        9.08      AR  1605062680             \n",
       "566           0        6.93      YT  1605062681             "
      ],
      "text/html": "<div>\n<style scoped>\n    .dataframe tbody tr th:only-of-type {\n        vertical-align: middle;\n    }\n\n    .dataframe tbody tr th {\n        vertical-align: top;\n    }\n\n    .dataframe thead th {\n        text-align: right;\n    }\n</style>\n<table border=\"1\" class=\"dataframe\">\n  <thead>\n    <tr style=\"text-align: right;\">\n      <th></th>\n      <th>Unnamed: 0</th>\n      <th>City</th>\n      <th>Lat</th>\n      <th>Lon</th>\n      <th>Temp Max</th>\n      <th>Humidity</th>\n      <th>Cloudiness</th>\n      <th>Wind Speed</th>\n      <th>Country</th>\n      <th>Date</th>\n      <th>Hotel Name</th>\n    </tr>\n  </thead>\n  <tbody>\n    <tr>\n      <th>6</th>\n      <td>6</td>\n      <td>Pāsighāt</td>\n      <td>28.07</td>\n      <td>95.33</td>\n      <td>76.89</td>\n      <td>44</td>\n      <td>0</td>\n      <td>1.57</td>\n      <td>IN</td>\n      <td>1605062559</td>\n      <td></td>\n    </tr>\n    <tr>\n      <th>21</th>\n      <td>21</td>\n      <td>Batemans Bay</td>\n      <td>-35.72</td>\n      <td>150.18</td>\n      <td>79.00</td>\n      <td>50</td>\n      <td>0</td>\n      <td>3.00</td>\n      <td>AU</td>\n      <td>1605062563</td>\n      <td></td>\n    </tr>\n    <tr>\n      <th>23</th>\n      <td>23</td>\n      <td>Saint-Philippe</td>\n      <td>-21.36</td>\n      <td>55.77</td>\n      <td>73.40</td>\n      <td>60</td>\n      <td>0</td>\n      <td>5.82</td>\n      <td>RE</td>\n      <td>1605062563</td>\n      <td></td>\n    </tr>\n    <tr>\n      <th>50</th>\n      <td>50</td>\n      <td>Salalah</td>\n      <td>17.02</td>\n      <td>54.09</td>\n      <td>75.20</td>\n      <td>78</td>\n      <td>0</td>\n      <td>2.24</td>\n      <td>OM</td>\n      <td>1605062569</td>\n      <td></td>\n    </tr>\n    <tr>\n      <th>63</th>\n      <td>63</td>\n      <td>Kpandu</td>\n      <td>7.00</td>\n      <td>0.29</td>\n      <td>74.86</td>\n      <td>88</td>\n      <td>0</td>\n      <td>5.66</td>\n      <td>GH</td>\n      <td>1605062572</td>\n      <td></td>\n    </tr>\n    <tr>\n      <th>73</th>\n      <td>73</td>\n      <td>Santa Maria</td>\n      <td>-29.68</td>\n      <td>-53.81</td>\n      <td>68.00</td>\n      <td>82</td>\n      <td>0</td>\n      <td>2.24</td>\n      <td>BR</td>\n      <td>1605062575</td>\n      <td></td>\n    </tr>\n    <tr>\n      <th>111</th>\n      <td>111</td>\n      <td>Álamos</td>\n      <td>27.02</td>\n      <td>-108.93</td>\n      <td>66.99</td>\n      <td>54</td>\n      <td>0</td>\n      <td>3.69</td>\n      <td>MX</td>\n      <td>1605062583</td>\n      <td></td>\n    </tr>\n    <tr>\n      <th>129</th>\n      <td>129</td>\n      <td>Marsá Maţrūḩ</td>\n      <td>31.35</td>\n      <td>27.25</td>\n      <td>65.98</td>\n      <td>59</td>\n      <td>0</td>\n      <td>9.19</td>\n      <td>EG</td>\n      <td>1605062587</td>\n      <td></td>\n    </tr>\n    <tr>\n      <th>141</th>\n      <td>141</td>\n      <td>Longyan</td>\n      <td>25.11</td>\n      <td>117.02</td>\n      <td>71.01</td>\n      <td>38</td>\n      <td>0</td>\n      <td>3.00</td>\n      <td>CN</td>\n      <td>1605062589</td>\n      <td></td>\n    </tr>\n    <tr>\n      <th>170</th>\n      <td>170</td>\n      <td>Abu Dhabi</td>\n      <td>24.47</td>\n      <td>54.37</td>\n      <td>77.00</td>\n      <td>88</td>\n      <td>0</td>\n      <td>2.24</td>\n      <td>AE</td>\n      <td>1605062596</td>\n      <td></td>\n    </tr>\n    <tr>\n      <th>172</th>\n      <td>172</td>\n      <td>Córdoba</td>\n      <td>-31.41</td>\n      <td>-64.18</td>\n      <td>68.00</td>\n      <td>87</td>\n      <td>0</td>\n      <td>5.82</td>\n      <td>AR</td>\n      <td>1605062400</td>\n      <td></td>\n    </tr>\n    <tr>\n      <th>179</th>\n      <td>179</td>\n      <td>Tezu</td>\n      <td>27.92</td>\n      <td>96.17</td>\n      <td>78.64</td>\n      <td>39</td>\n      <td>0</td>\n      <td>1.79</td>\n      <td>IN</td>\n      <td>1605062598</td>\n      <td></td>\n    </tr>\n    <tr>\n      <th>189</th>\n      <td>189</td>\n      <td>Taoudenni</td>\n      <td>22.68</td>\n      <td>-3.98</td>\n      <td>75.11</td>\n      <td>20</td>\n      <td>0</td>\n      <td>8.52</td>\n      <td>ML</td>\n      <td>1605062600</td>\n      <td></td>\n    </tr>\n    <tr>\n      <th>193</th>\n      <td>193</td>\n      <td>Kot Diji</td>\n      <td>27.34</td>\n      <td>68.71</td>\n      <td>71.92</td>\n      <td>21</td>\n      <td>0</td>\n      <td>7.20</td>\n      <td>PK</td>\n      <td>1605062601</td>\n      <td></td>\n    </tr>\n    <tr>\n      <th>204</th>\n      <td>204</td>\n      <td>Douentza</td>\n      <td>15.00</td>\n      <td>-2.95</td>\n      <td>70.54</td>\n      <td>23</td>\n      <td>0</td>\n      <td>3.67</td>\n      <td>ML</td>\n      <td>1605062603</td>\n      <td></td>\n    </tr>\n    <tr>\n      <th>232</th>\n      <td>232</td>\n      <td>Tombouctou</td>\n      <td>20.00</td>\n      <td>-3.00</td>\n      <td>76.30</td>\n      <td>19</td>\n      <td>0</td>\n      <td>9.48</td>\n      <td>ML</td>\n      <td>1605062610</td>\n      <td></td>\n    </tr>\n    <tr>\n      <th>247</th>\n      <td>247</td>\n      <td>Xiangxiang</td>\n      <td>27.73</td>\n      <td>112.53</td>\n      <td>67.93</td>\n      <td>44</td>\n      <td>0</td>\n      <td>4.81</td>\n      <td>CN</td>\n      <td>1605062552</td>\n      <td></td>\n    </tr>\n    <tr>\n      <th>272</th>\n      <td>272</td>\n      <td>Jonuta</td>\n      <td>18.08</td>\n      <td>-92.13</td>\n      <td>70.32</td>\n      <td>86</td>\n      <td>0</td>\n      <td>3.29</td>\n      <td>MX</td>\n      <td>1605062618</td>\n      <td></td>\n    </tr>\n    <tr>\n      <th>295</th>\n      <td>295</td>\n      <td>Saint-Joseph</td>\n      <td>-21.37</td>\n      <td>55.62</td>\n      <td>73.40</td>\n      <td>60</td>\n      <td>0</td>\n      <td>5.82</td>\n      <td>RE</td>\n      <td>1605062623</td>\n      <td></td>\n    </tr>\n    <tr>\n      <th>332</th>\n      <td>332</td>\n      <td>Dakar</td>\n      <td>14.69</td>\n      <td>-17.44</td>\n      <td>77.00</td>\n      <td>88</td>\n      <td>0</td>\n      <td>5.82</td>\n      <td>SN</td>\n      <td>1605062495</td>\n      <td></td>\n    </tr>\n    <tr>\n      <th>334</th>\n      <td>334</td>\n      <td>Yichang</td>\n      <td>30.71</td>\n      <td>111.28</td>\n      <td>70.02</td>\n      <td>36</td>\n      <td>0</td>\n      <td>2.21</td>\n      <td>CN</td>\n      <td>1605062631</td>\n      <td></td>\n    </tr>\n    <tr>\n      <th>356</th>\n      <td>356</td>\n      <td>Sārangpur</td>\n      <td>23.57</td>\n      <td>76.47</td>\n      <td>68.07</td>\n      <td>32</td>\n      <td>0</td>\n      <td>3.44</td>\n      <td>IN</td>\n      <td>1605062635</td>\n      <td></td>\n    </tr>\n    <tr>\n      <th>386</th>\n      <td>386</td>\n      <td>Tura</td>\n      <td>25.52</td>\n      <td>90.22</td>\n      <td>75.63</td>\n      <td>57</td>\n      <td>0</td>\n      <td>1.52</td>\n      <td>IN</td>\n      <td>1605062642</td>\n      <td></td>\n    </tr>\n    <tr>\n      <th>394</th>\n      <td>394</td>\n      <td>Pano Aqil</td>\n      <td>27.86</td>\n      <td>69.11</td>\n      <td>70.02</td>\n      <td>22</td>\n      <td>0</td>\n      <td>7.56</td>\n      <td>PK</td>\n      <td>1605062644</td>\n      <td></td>\n    </tr>\n    <tr>\n      <th>407</th>\n      <td>407</td>\n      <td>Sur</td>\n      <td>22.57</td>\n      <td>59.53</td>\n      <td>74.80</td>\n      <td>67</td>\n      <td>0</td>\n      <td>1.92</td>\n      <td>OM</td>\n      <td>1605062647</td>\n      <td></td>\n    </tr>\n    <tr>\n      <th>426</th>\n      <td>426</td>\n      <td>Saint-Pierre</td>\n      <td>-21.34</td>\n      <td>55.48</td>\n      <td>73.40</td>\n      <td>60</td>\n      <td>0</td>\n      <td>5.82</td>\n      <td>RE</td>\n      <td>1605062652</td>\n      <td></td>\n    </tr>\n    <tr>\n      <th>432</th>\n      <td>432</td>\n      <td>Hurghada</td>\n      <td>27.26</td>\n      <td>33.81</td>\n      <td>68.00</td>\n      <td>37</td>\n      <td>0</td>\n      <td>6.93</td>\n      <td>EG</td>\n      <td>1605062653</td>\n      <td></td>\n    </tr>\n    <tr>\n      <th>442</th>\n      <td>442</td>\n      <td>Gambēla</td>\n      <td>8.25</td>\n      <td>34.58</td>\n      <td>70.16</td>\n      <td>77</td>\n      <td>0</td>\n      <td>3.74</td>\n      <td>ET</td>\n      <td>1605062655</td>\n      <td></td>\n    </tr>\n    <tr>\n      <th>448</th>\n      <td>448</td>\n      <td>Santarém</td>\n      <td>-2.44</td>\n      <td>-54.71</td>\n      <td>78.80</td>\n      <td>94</td>\n      <td>0</td>\n      <td>4.70</td>\n      <td>BR</td>\n      <td>1605062656</td>\n      <td></td>\n    </tr>\n    <tr>\n      <th>456</th>\n      <td>456</td>\n      <td>Khanpur</td>\n      <td>28.65</td>\n      <td>70.66</td>\n      <td>70.00</td>\n      <td>22</td>\n      <td>0</td>\n      <td>6.93</td>\n      <td>PK</td>\n      <td>1605062658</td>\n      <td></td>\n    </tr>\n    <tr>\n      <th>464</th>\n      <td>464</td>\n      <td>Beloha</td>\n      <td>-25.17</td>\n      <td>45.05</td>\n      <td>72.12</td>\n      <td>88</td>\n      <td>0</td>\n      <td>5.41</td>\n      <td>MG</td>\n      <td>1605062659</td>\n      <td></td>\n    </tr>\n    <tr>\n      <th>508</th>\n      <td>508</td>\n      <td>Xiangfan</td>\n      <td>32.04</td>\n      <td>112.14</td>\n      <td>66.31</td>\n      <td>37</td>\n      <td>0</td>\n      <td>4.56</td>\n      <td>CN</td>\n      <td>1605062669</td>\n      <td></td>\n    </tr>\n    <tr>\n      <th>509</th>\n      <td>509</td>\n      <td>Guangzhou</td>\n      <td>23.12</td>\n      <td>113.25</td>\n      <td>73.99</td>\n      <td>33</td>\n      <td>0</td>\n      <td>8.95</td>\n      <td>CN</td>\n      <td>1605062520</td>\n      <td></td>\n    </tr>\n    <tr>\n      <th>527</th>\n      <td>527</td>\n      <td>Youkounkoun</td>\n      <td>12.53</td>\n      <td>-13.13</td>\n      <td>73.20</td>\n      <td>47</td>\n      <td>0</td>\n      <td>2.64</td>\n      <td>GN</td>\n      <td>1605062673</td>\n      <td></td>\n    </tr>\n    <tr>\n      <th>534</th>\n      <td>534</td>\n      <td>Ampanihy</td>\n      <td>-24.70</td>\n      <td>44.75</td>\n      <td>72.75</td>\n      <td>84</td>\n      <td>0</td>\n      <td>4.90</td>\n      <td>MG</td>\n      <td>1605062674</td>\n      <td></td>\n    </tr>\n    <tr>\n      <th>560</th>\n      <td>560</td>\n      <td>Tsaratanana</td>\n      <td>-16.78</td>\n      <td>47.65</td>\n      <td>70.61</td>\n      <td>66</td>\n      <td>0</td>\n      <td>8.25</td>\n      <td>MG</td>\n      <td>1605062679</td>\n      <td></td>\n    </tr>\n    <tr>\n      <th>562</th>\n      <td>562</td>\n      <td>Santa Fe</td>\n      <td>-31.63</td>\n      <td>-60.70</td>\n      <td>71.01</td>\n      <td>61</td>\n      <td>0</td>\n      <td>9.08</td>\n      <td>AR</td>\n      <td>1605062680</td>\n      <td></td>\n    </tr>\n    <tr>\n      <th>566</th>\n      <td>566</td>\n      <td>Dzaoudzi</td>\n      <td>-12.79</td>\n      <td>45.27</td>\n      <td>78.80</td>\n      <td>78</td>\n      <td>0</td>\n      <td>6.93</td>\n      <td>YT</td>\n      <td>1605062681</td>\n      <td></td>\n    </tr>\n  </tbody>\n</table>\n</div>"
     },
     "metadata": {},
     "execution_count": 14
    }
   ],
   "source": [
    "#narrow down data\n",
    "ideal_weather = pt1_df.copy()\n",
    "ideal_weather = ideal_weather.loc[(ideal_weather['Temp Max']>65) & (ideal_weather['Temp Max']<80) & (ideal_weather['Wind Speed']<10) & (ideal_weather['Cloudiness'] == 0)]\n",
    "ideal_weather[\"Hotel Name\"]=\"\"\n",
    "ideal_weather.dropna(inplace=True)\n",
    "ideal_weather\n"
   ]
  },
  {
   "cell_type": "code",
   "execution_count": 15,
   "metadata": {},
   "outputs": [
    {
     "output_type": "stream",
     "name": "stdout",
     "text": [
      "{'html_attributions': [], 'results': [], 'status': 'ZERO_RESULTS'}\n"
     ]
    }
   ],
   "source": [
    "#look at JSON return data\n",
    "import pprint as pp\n",
    "nearby_url = \"https://maps.googleapis.com/maps/api/place/nearbysearch/json\"\n",
    "params = {\n",
    "    \"key\": gkey,\n",
    "    \"type\": \"hotel\",\n",
    "    \"rankby\": \"distance\",\n",
    "}\n",
    "params['location'] = ('-25.17, 45.05')\n",
    "hotel_locations= requests.get(nearby_url,params=params).json()\n",
    "pp.pprint(hotel_locations)"
   ]
  },
  {
   "cell_type": "code",
   "execution_count": 16,
   "metadata": {},
   "outputs": [
    {
     "output_type": "execute_result",
     "data": {
      "text/plain": [
       "dict_keys(['html_attributions', 'results', 'status'])"
      ]
     },
     "metadata": {},
     "execution_count": 16
    }
   ],
   "source": [
    "hotel_locations.keys()"
   ]
  },
  {
   "cell_type": "code",
   "execution_count": 17,
   "metadata": {},
   "outputs": [
    {
     "output_type": "stream",
     "name": "stdout",
     "text": [
      "Hotel Found in Pāsighāt, IN! Check out Power Grid Corporation of India,Pasighat Office\n",
      "Hotel Found in Batemans Bay, AU! Check out Batemans Bay Marine\n",
      "Hotel Found in Saint-Philippe, RE! Check out Le Palmier\n",
      "Hotel Found in Salalah, OM! Check out المديرية العامة للماليه\n",
      "Hotel Found in Kpandu, GH! Check out Edem,s Store\n",
      "Hotel Found in Santa Maria, BR! Check out Marcia Glass Design Interiores\n",
      "Hotel Found in Álamos, MX! Check out Taller electromecánico Robles\n",
      "Hotel Found in Marsá Maţrūḩ, EG! Check out كابيتانو لخدمات التليفون المحمول\n",
      "Hotel Found in Longyan, CN! Check out Shuqishi Sofa Mattress Factory\n",
      "Hotel Found in Abu Dhabi, AE! Check out Eburn\n",
      "Hotel Found in Córdoba, AR! Check out Hosteria Rivadavia\n",
      "Hotel Found in Tezu, IN! Check out IGG College Tezu\n",
      "Hotel Found in Taoudenni, ML! Check out Ksar de Smida\n",
      "Hotel Found in Kot Diji, PK! Check out Babe Zainabia (s.a)\n",
      "Hotel Found in Douentza, ML! Check out Boutique GUINDO\n"
     ]
    },
    {
     "output_type": "error",
     "ename": "IndexError",
     "evalue": "list index out of range",
     "traceback": [
      "\u001b[0;31m---------------------------------------------------------------------------\u001b[0m",
      "\u001b[0;31mIndexError\u001b[0m                                Traceback (most recent call last)",
      "\u001b[0;32m<ipython-input-17-d42202586d33>\u001b[0m in \u001b[0;36m<module>\u001b[0;34m\u001b[0m\n\u001b[1;32m      7\u001b[0m \u001b[0;34m\u001b[0m\u001b[0m\n\u001b[1;32m      8\u001b[0m     \u001b[0;32mif\u001b[0m \u001b[0;34m(\u001b[0m\u001b[0mhotel_locations\u001b[0m\u001b[0;34m[\u001b[0m\u001b[0;34m'status'\u001b[0m\u001b[0;34m]\u001b[0m \u001b[0;34m!=\u001b[0m \u001b[0;34m\"ZERO_RESULTS\"\u001b[0m\u001b[0;34m)\u001b[0m \u001b[0;34m|\u001b[0m \u001b[0;34m(\u001b[0m\u001b[0mhotel_locations\u001b[0m\u001b[0;34m[\u001b[0m\u001b[0;34m'status'\u001b[0m\u001b[0;34m]\u001b[0m \u001b[0;34m!=\u001b[0m \u001b[0;34m\"UNKNOWN_ERROR\"\u001b[0m\u001b[0;34m)\u001b[0m\u001b[0;34m:\u001b[0m\u001b[0;34m\u001b[0m\u001b[0;34m\u001b[0m\u001b[0m\n\u001b[0;32m----> 9\u001b[0;31m         \u001b[0mideal_weather\u001b[0m\u001b[0;34m.\u001b[0m\u001b[0mloc\u001b[0m\u001b[0;34m[\u001b[0m\u001b[0mindex\u001b[0m\u001b[0;34m,\u001b[0m \u001b[0;34m'Hotel Name'\u001b[0m\u001b[0;34m]\u001b[0m \u001b[0;34m=\u001b[0m \u001b[0mhotel_locations\u001b[0m\u001b[0;34m[\u001b[0m\u001b[0;34m'results'\u001b[0m\u001b[0;34m]\u001b[0m\u001b[0;34m[\u001b[0m\u001b[0;36m0\u001b[0m\u001b[0;34m]\u001b[0m\u001b[0;34m[\u001b[0m\u001b[0;34m'name'\u001b[0m\u001b[0;34m]\u001b[0m\u001b[0;34m\u001b[0m\u001b[0;34m\u001b[0m\u001b[0m\n\u001b[0m\u001b[1;32m     10\u001b[0m         \u001b[0mcity_name\u001b[0m \u001b[0;34m=\u001b[0m \u001b[0mrow\u001b[0m\u001b[0;34m[\u001b[0m\u001b[0;34m\"City\"\u001b[0m\u001b[0;34m]\u001b[0m\u001b[0;34m\u001b[0m\u001b[0;34m\u001b[0m\u001b[0m\n\u001b[1;32m     11\u001b[0m         \u001b[0mcountry\u001b[0m \u001b[0;34m=\u001b[0m \u001b[0mrow\u001b[0m\u001b[0;34m[\u001b[0m\u001b[0;34m\"Country\"\u001b[0m\u001b[0;34m]\u001b[0m\u001b[0;34m\u001b[0m\u001b[0;34m\u001b[0m\u001b[0m\n",
      "\u001b[0;31mIndexError\u001b[0m: list index out of range"
     ]
    }
   ],
   "source": [
    "#itterate over rows and get data about all of these locations, add a hotel column and capture hotel info\n",
    "for index, row in ideal_weather.iterrows():\n",
    "    lat = row['Lat']\n",
    "    lon = row['Lon']\n",
    "    params['location'] = ('{},{}'.format(lat, lon))\n",
    "    hotel_locations= requests.get(nearby_url,params=params).json()\n",
    "\n",
    "    if (hotel_locations['status'] != \"ZERO_RESULTS\") | (hotel_locations['status'] != \"UNKNOWN_ERROR\"):  \n",
    "        ideal_weather.loc[index, 'Hotel Name'] = hotel_locations['results'][0]['name']\n",
    "        city_name = row[\"City\"]\n",
    "        country = row[\"Country\"]\n",
    "        hotel_name = hotel_locations['results'][0]['name']\n",
    "        print('Hotel Found in {}, {}! Check out {}'.format(city_name,country, hotel_name))\n",
    "    else: \n",
    "        pass\n",
    "\n",
    "    \n",
    "ideal_weather.head()\n"
   ]
  },
  {
   "cell_type": "markdown",
   "metadata": {},
   "source": [
    "### Hotel Map\n",
    "* Store into variable named `hotel_df`.\n",
    "* Add a \"Hotel Name\" column to the DataFrame.\n",
    "* Set parameters to search for hotels with 5000 meters.\n",
    "* Hit the Google Places API for each city's coordinates.\n",
    "* Store the first Hotel result into the DataFrame.\n",
    "* Plot markers on top of the heatmap."
   ]
  },
  {
   "cell_type": "code",
   "execution_count": null,
   "metadata": {},
   "outputs": [],
   "source": []
  },
  {
   "cell_type": "code",
   "execution_count": null,
   "metadata": {},
   "outputs": [],
   "source": []
  },
  {
   "cell_type": "code",
   "execution_count": 8,
   "metadata": {},
   "outputs": [],
   "source": [
    "# NOTE: Do not change any of the code in this cell\n",
    "\n",
    "# Using the template add the hotel marks to the heatmap\n",
    "info_box_template = \"\"\"\n",
    "<dl>\n",
    "<dt>Name</dt><dd>{Hotel Name}</dd>\n",
    "<dt>City</dt><dd>{City}</dd>\n",
    "<dt>Country</dt><dd>{Country}</dd>\n",
    "</dl>\n",
    "\"\"\"\n",
    "# Store the DataFrame Row\n",
    "# NOTE: be sure to update with your DataFrame name\n",
    "hotel_df = ideal_weather.copy()\n",
    "hotel_info = [info_box_template.format(**row) for index, row in hotel_df.iterrows()]\n",
    "locations = hotel_df[[\"Lat\", \"Lon\"]]"
   ]
  },
  {
   "cell_type": "code",
   "execution_count": 9,
   "metadata": {},
   "outputs": [
    {
     "output_type": "display_data",
     "data": {
      "text/plain": "Figure(layout=FigureLayout(border='1px solid black', height='500px', margin='0 auto 0 auto', padding='1px', wi…",
      "application/vnd.jupyter.widget-view+json": {
       "version_major": 2,
       "version_minor": 0,
       "model_id": "b25c93b75549424dbe629bee2e5189a7"
      }
     },
     "metadata": {}
    }
   ],
   "source": [
    "# Add marker layer ontop of heat map\n",
    "markers = gmaps.marker_layer(locations, info_box_content=hotel_info)\n",
    "# Add the layer to the map\n",
    "fig1.add_layer(markers)\n",
    "fig1\n",
    "\n",
    "# Display figure\n"
   ]
  },
  {
   "cell_type": "code",
   "execution_count": null,
   "metadata": {},
   "outputs": [],
   "source": []
  }
 ],
 "metadata": {
  "kernelspec": {
   "name": "Python 3.8.5 64-bit",
   "display_name": "Python 3.8.5 64-bit",
   "metadata": {
    "interpreter": {
     "hash": "b029dc0bf375b8998aa9027efd27666008bdbb4778f20a5670bf71af495827aa"
    }
   }
  },
  "language_info": {
   "codemirror_mode": {
    "name": "ipython",
    "version": 3
   },
   "file_extension": ".py",
   "mimetype": "text/x-python",
   "name": "python",
   "nbconvert_exporter": "python",
   "pygments_lexer": "ipython3",
   "version": "3.8.5-final"
  },
  "latex_envs": {
   "LaTeX_envs_menu_present": true,
   "autoclose": false,
   "autocomplete": true,
   "bibliofile": "biblio.bib",
   "cite_by": "apalike",
   "current_citInitial": 1,
   "eqLabelWithNumbers": true,
   "eqNumInitial": 1,
   "hotkeys": {
    "equation": "Ctrl-E",
    "itemize": "Ctrl-I"
   },
   "labels_anchors": false,
   "latex_user_defs": false,
   "report_style_numbering": false,
   "user_envs_cfg": false
  }
 },
 "nbformat": 4,
 "nbformat_minor": 4
}