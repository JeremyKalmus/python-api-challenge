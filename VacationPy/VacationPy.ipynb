{
 "cells": [
  {
   "cell_type": "markdown",
   "metadata": {},
   "source": [
    "# VacationPy\n",
    "----\n",
    "\n",
    "#### Note\n",
    "* Keep an eye on your API usage. Use https://developers.google.com/maps/reporting/gmp-reporting as reference for how to monitor your usage and billing.\n",
    "\n",
    "* Instructions have been included for each segment. You do not have to follow them exactly, but they are included to help you think through the steps."
   ]
  },
  {
   "cell_type": "code",
   "execution_count": 1,
   "metadata": {},
   "outputs": [],
   "source": [
    "# Dependencies and Setup\n",
    "import matplotlib.pyplot as plt\n",
    "import pandas as pd\n",
    "import numpy as np\n",
    "import requests\n",
    "import gmaps\n",
    "import os\n",
    "\n",
    "# Import API key\n",
    "from config import gkey"
   ]
  },
  {
   "cell_type": "markdown",
   "metadata": {},
   "source": [
    "### Store Part I results into DataFrame\n",
    "* Load the csv exported in Part I to a DataFrame"
   ]
  },
  {
   "cell_type": "code",
   "execution_count": 2,
   "metadata": {},
   "outputs": [
    {
     "output_type": "execute_result",
     "data": {
      "text/plain": [
       "   Unnamed: 0         City    Lat     Lon  Temp Max  Humidity  Cloudiness  \\\n",
       "0           0  New Norfolk -42.78  147.06      73.0        33          82   \n",
       "1           1      Teguise  29.06  -13.56      68.0        77          20   \n",
       "2           2         Lata  40.16   -8.33      59.0        91           2   \n",
       "3           3      Neuquén -38.95  -68.06      73.4        46          75   \n",
       "4           4      Ushuaia -54.80  -68.30      48.2        77          40   \n",
       "\n",
       "   Wind Speed Country        Date  \n",
       "0        5.01      AU  1604965754  \n",
       "1        9.17      ES  1604965754  \n",
       "2        1.72      PT  1604965754  \n",
       "3       10.29      AR  1604965754  \n",
       "4       40.26      AR  1604965755  "
      ],
      "text/html": "<div>\n<style scoped>\n    .dataframe tbody tr th:only-of-type {\n        vertical-align: middle;\n    }\n\n    .dataframe tbody tr th {\n        vertical-align: top;\n    }\n\n    .dataframe thead th {\n        text-align: right;\n    }\n</style>\n<table border=\"1\" class=\"dataframe\">\n  <thead>\n    <tr style=\"text-align: right;\">\n      <th></th>\n      <th>Unnamed: 0</th>\n      <th>City</th>\n      <th>Lat</th>\n      <th>Lon</th>\n      <th>Temp Max</th>\n      <th>Humidity</th>\n      <th>Cloudiness</th>\n      <th>Wind Speed</th>\n      <th>Country</th>\n      <th>Date</th>\n    </tr>\n  </thead>\n  <tbody>\n    <tr>\n      <th>0</th>\n      <td>0</td>\n      <td>New Norfolk</td>\n      <td>-42.78</td>\n      <td>147.06</td>\n      <td>73.0</td>\n      <td>33</td>\n      <td>82</td>\n      <td>5.01</td>\n      <td>AU</td>\n      <td>1604965754</td>\n    </tr>\n    <tr>\n      <th>1</th>\n      <td>1</td>\n      <td>Teguise</td>\n      <td>29.06</td>\n      <td>-13.56</td>\n      <td>68.0</td>\n      <td>77</td>\n      <td>20</td>\n      <td>9.17</td>\n      <td>ES</td>\n      <td>1604965754</td>\n    </tr>\n    <tr>\n      <th>2</th>\n      <td>2</td>\n      <td>Lata</td>\n      <td>40.16</td>\n      <td>-8.33</td>\n      <td>59.0</td>\n      <td>91</td>\n      <td>2</td>\n      <td>1.72</td>\n      <td>PT</td>\n      <td>1604965754</td>\n    </tr>\n    <tr>\n      <th>3</th>\n      <td>3</td>\n      <td>Neuquén</td>\n      <td>-38.95</td>\n      <td>-68.06</td>\n      <td>73.4</td>\n      <td>46</td>\n      <td>75</td>\n      <td>10.29</td>\n      <td>AR</td>\n      <td>1604965754</td>\n    </tr>\n    <tr>\n      <th>4</th>\n      <td>4</td>\n      <td>Ushuaia</td>\n      <td>-54.80</td>\n      <td>-68.30</td>\n      <td>48.2</td>\n      <td>77</td>\n      <td>40</td>\n      <td>40.26</td>\n      <td>AR</td>\n      <td>1604965755</td>\n    </tr>\n  </tbody>\n</table>\n</div>"
     },
     "metadata": {},
     "execution_count": 2
    }
   ],
   "source": [
    "pt1_df = \"../WeatherPy/Cities_Output_JK.csv\"\n",
    "pt1_df = pd.read_csv(pt1_df)\n",
    "pt1_df.head()"
   ]
  },
  {
   "cell_type": "markdown",
   "metadata": {},
   "source": [
    "### Humidity Heatmap\n",
    "* Configure gmaps.\n",
    "* Use the Lat and Lng as locations and Humidity as the weight.\n",
    "* Add Heatmap layer to map."
   ]
  },
  {
   "cell_type": "code",
   "execution_count": 3,
   "metadata": {},
   "outputs": [
    {
     "output_type": "display_data",
     "data": {
      "text/plain": "Figure(layout=FigureLayout(border='1px solid black', height='500px', margin='0 auto 0 auto', padding='1px', wi…",
      "application/vnd.jupyter.widget-view+json": {
       "version_major": 2,
       "version_minor": 0,
       "model_id": "b25c93b75549424dbe629bee2e5189a7"
      }
     },
     "metadata": {}
    }
   ],
   "source": [
    "gmaps.configure(api_key=gkey)\n",
    "locations = pt1_df[['Lat', 'Lon']].astype(float).round(3)\n",
    "\n",
    "figure_layout = {\n",
    "    'width': '600px',\n",
    "    'height': '500px',\n",
    "    'border': '1px solid black',\n",
    "    'padding': '1px',\n",
    "    'margin': '0 auto 0 auto'\n",
    "}\n",
    "fig = gmaps.figure(layout=figure_layout)\n",
    "\n",
    "markers = gmaps.marker_layer(locations)\n",
    "# Add the layer to the map\n",
    "fig1 = gmaps.figure(layout=figure_layout, map_type='ROADMAP')\n",
    "heatmap_layer = gmaps.heatmap_layer(\n",
    "    pt1_df[['Lat', 'Lon']], weights=pt1_df[\"Humidity\"],\n",
    "    max_intensity=.75, point_radius=3.5, dissipating=False\n",
    ")\n",
    "fig1.add_layer(heatmap_layer)\n",
    "fig1\n",
    "\n",
    "\n",
    "\n",
    "\n",
    "\n"
   ]
  },
  {
   "cell_type": "code",
   "execution_count": null,
   "metadata": {},
   "outputs": [],
   "source": []
  },
  {
   "cell_type": "markdown",
   "metadata": {},
   "source": [
    "### Create new DataFrame fitting weather criteria\n",
    "* Narrow down the cities to fit weather conditions.\n",
    "* Drop any rows will null values."
   ]
  },
  {
   "cell_type": "code",
   "execution_count": 4,
   "metadata": {},
   "outputs": [
    {
     "output_type": "execute_result",
     "data": {
      "text/plain": [
       "     Unnamed: 0                City    Lat     Lon  Temp Max  Humidity  \\\n",
       "9             9              Ocampo  21.65 -101.50     65.55        32   \n",
       "20           20              Kibala   9.11   18.35     73.40        83   \n",
       "65           65               Dubbo -32.25  148.62     71.60        49   \n",
       "84           84               Qeshm  26.96   56.27     71.60        88   \n",
       "103         103               Arlit  18.74    7.39     69.28        26   \n",
       "117         117            Belmonte -15.86  -38.88     77.00        78   \n",
       "122         122  Comodoro Rivadavia -45.87  -67.50     66.20        52   \n",
       "126         126      Saint-Philippe -21.36   55.77     71.60        78   \n",
       "163         163           Canchungo  12.07  -16.03     78.80        94   \n",
       "164         164        Sharjah city  25.36   55.40     77.00        83   \n",
       "170         170           Taoudenni  22.68   -3.98     79.43        17   \n",
       "175         175           Abu Dhabi  24.47   54.37     78.80        78   \n",
       "200         200            Ténenkou  14.46   -4.92     75.87        18   \n",
       "254         254             Salalah  17.02   54.09     75.20        57   \n",
       "257         257                Kita  13.03   -9.49     76.30        30   \n",
       "290         290          Kiryat Gat  31.61   34.76     66.99        80   \n",
       "323         323             Siguiri  11.67   -9.50     75.51        32   \n",
       "380         380            Kousséri  12.08   15.03     69.80        46   \n",
       "383         383              Beloha -25.17   45.05     71.91        63   \n",
       "400         400              Riyadh  24.69   46.72     73.40        46   \n",
       "409         409            Chiredzi -21.05   31.67     77.58        54   \n",
       "429         429             Angoche -16.23   39.91     77.25        81   \n",
       "435         435                Tezu  27.92   96.17     65.55        44   \n",
       "443         443           Kouroussa  10.65   -9.88     73.29        36   \n",
       "463         463        Saint-Pierre -21.34   55.48     71.60        78   \n",
       "485         485                 Sur  22.57   59.53     74.41        72   \n",
       "496         496              Rāzole  16.48   81.83     65.86        76   \n",
       "508         508  San Luis de la Paz  21.30 -100.52     68.47        37   \n",
       "511         511            Flinders -34.58  150.86     69.01        62   \n",
       "555         555              Najrān  17.49   44.13     66.20        37   \n",
       "557         557               Mopti  14.67   -4.00     77.38        18   \n",
       "\n",
       "     Cloudiness  Wind Speed Country        Date Hotel Name  \n",
       "9             0        6.40      MX  1604965756             \n",
       "20            0        1.12      TD  1604965759             \n",
       "65            0        8.05      AU  1604965764             \n",
       "84            0        2.24      IR  1604965775             \n",
       "103           0        6.35      NE  1604965779             \n",
       "117           0        9.17      BR  1604965783             \n",
       "122           0        5.82      AR  1604965784             \n",
       "126           0        9.17      RE  1604965785             \n",
       "163           0        4.70      GW  1604965795             \n",
       "164           0        5.82      AE  1604965795             \n",
       "170           0        9.80      ML  1604965796             \n",
       "175           0        3.36      AE  1604965797             \n",
       "200           0        6.62      ML  1604965804             \n",
       "254           0        3.36      OM  1604965614             \n",
       "257           0        4.72      ML  1604965817             \n",
       "290           0        1.12      IL  1604965680             \n",
       "323           0        1.95      GN  1604965832             \n",
       "380           0        3.36      CM  1604965844             \n",
       "383           0        6.42      MG  1604965845             \n",
       "400           0        5.82      SA  1604965849             \n",
       "409           0        7.61      ZW  1604965851             \n",
       "429           0        8.75      MZ  1604965856             \n",
       "435           0        3.58      IN  1604965857             \n",
       "443           0        0.81      GN  1604965859             \n",
       "463           0        9.17      RE  1604965863             \n",
       "485           0        1.54      OM  1604965870             \n",
       "496           0        4.50      IN  1604965872             \n",
       "508           0        6.40      MX  1604965875             \n",
       "511           0        5.01      AU  1604965876             \n",
       "555           0        0.58      SA  1604965888             \n",
       "557           0        8.01      ML  1604965889             "
      ],
      "text/html": "<div>\n<style scoped>\n    .dataframe tbody tr th:only-of-type {\n        vertical-align: middle;\n    }\n\n    .dataframe tbody tr th {\n        vertical-align: top;\n    }\n\n    .dataframe thead th {\n        text-align: right;\n    }\n</style>\n<table border=\"1\" class=\"dataframe\">\n  <thead>\n    <tr style=\"text-align: right;\">\n      <th></th>\n      <th>Unnamed: 0</th>\n      <th>City</th>\n      <th>Lat</th>\n      <th>Lon</th>\n      <th>Temp Max</th>\n      <th>Humidity</th>\n      <th>Cloudiness</th>\n      <th>Wind Speed</th>\n      <th>Country</th>\n      <th>Date</th>\n      <th>Hotel Name</th>\n    </tr>\n  </thead>\n  <tbody>\n    <tr>\n      <th>9</th>\n      <td>9</td>\n      <td>Ocampo</td>\n      <td>21.65</td>\n      <td>-101.50</td>\n      <td>65.55</td>\n      <td>32</td>\n      <td>0</td>\n      <td>6.40</td>\n      <td>MX</td>\n      <td>1604965756</td>\n      <td></td>\n    </tr>\n    <tr>\n      <th>20</th>\n      <td>20</td>\n      <td>Kibala</td>\n      <td>9.11</td>\n      <td>18.35</td>\n      <td>73.40</td>\n      <td>83</td>\n      <td>0</td>\n      <td>1.12</td>\n      <td>TD</td>\n      <td>1604965759</td>\n      <td></td>\n    </tr>\n    <tr>\n      <th>65</th>\n      <td>65</td>\n      <td>Dubbo</td>\n      <td>-32.25</td>\n      <td>148.62</td>\n      <td>71.60</td>\n      <td>49</td>\n      <td>0</td>\n      <td>8.05</td>\n      <td>AU</td>\n      <td>1604965764</td>\n      <td></td>\n    </tr>\n    <tr>\n      <th>84</th>\n      <td>84</td>\n      <td>Qeshm</td>\n      <td>26.96</td>\n      <td>56.27</td>\n      <td>71.60</td>\n      <td>88</td>\n      <td>0</td>\n      <td>2.24</td>\n      <td>IR</td>\n      <td>1604965775</td>\n      <td></td>\n    </tr>\n    <tr>\n      <th>103</th>\n      <td>103</td>\n      <td>Arlit</td>\n      <td>18.74</td>\n      <td>7.39</td>\n      <td>69.28</td>\n      <td>26</td>\n      <td>0</td>\n      <td>6.35</td>\n      <td>NE</td>\n      <td>1604965779</td>\n      <td></td>\n    </tr>\n    <tr>\n      <th>117</th>\n      <td>117</td>\n      <td>Belmonte</td>\n      <td>-15.86</td>\n      <td>-38.88</td>\n      <td>77.00</td>\n      <td>78</td>\n      <td>0</td>\n      <td>9.17</td>\n      <td>BR</td>\n      <td>1604965783</td>\n      <td></td>\n    </tr>\n    <tr>\n      <th>122</th>\n      <td>122</td>\n      <td>Comodoro Rivadavia</td>\n      <td>-45.87</td>\n      <td>-67.50</td>\n      <td>66.20</td>\n      <td>52</td>\n      <td>0</td>\n      <td>5.82</td>\n      <td>AR</td>\n      <td>1604965784</td>\n      <td></td>\n    </tr>\n    <tr>\n      <th>126</th>\n      <td>126</td>\n      <td>Saint-Philippe</td>\n      <td>-21.36</td>\n      <td>55.77</td>\n      <td>71.60</td>\n      <td>78</td>\n      <td>0</td>\n      <td>9.17</td>\n      <td>RE</td>\n      <td>1604965785</td>\n      <td></td>\n    </tr>\n    <tr>\n      <th>163</th>\n      <td>163</td>\n      <td>Canchungo</td>\n      <td>12.07</td>\n      <td>-16.03</td>\n      <td>78.80</td>\n      <td>94</td>\n      <td>0</td>\n      <td>4.70</td>\n      <td>GW</td>\n      <td>1604965795</td>\n      <td></td>\n    </tr>\n    <tr>\n      <th>164</th>\n      <td>164</td>\n      <td>Sharjah city</td>\n      <td>25.36</td>\n      <td>55.40</td>\n      <td>77.00</td>\n      <td>83</td>\n      <td>0</td>\n      <td>5.82</td>\n      <td>AE</td>\n      <td>1604965795</td>\n      <td></td>\n    </tr>\n    <tr>\n      <th>170</th>\n      <td>170</td>\n      <td>Taoudenni</td>\n      <td>22.68</td>\n      <td>-3.98</td>\n      <td>79.43</td>\n      <td>17</td>\n      <td>0</td>\n      <td>9.80</td>\n      <td>ML</td>\n      <td>1604965796</td>\n      <td></td>\n    </tr>\n    <tr>\n      <th>175</th>\n      <td>175</td>\n      <td>Abu Dhabi</td>\n      <td>24.47</td>\n      <td>54.37</td>\n      <td>78.80</td>\n      <td>78</td>\n      <td>0</td>\n      <td>3.36</td>\n      <td>AE</td>\n      <td>1604965797</td>\n      <td></td>\n    </tr>\n    <tr>\n      <th>200</th>\n      <td>200</td>\n      <td>Ténenkou</td>\n      <td>14.46</td>\n      <td>-4.92</td>\n      <td>75.87</td>\n      <td>18</td>\n      <td>0</td>\n      <td>6.62</td>\n      <td>ML</td>\n      <td>1604965804</td>\n      <td></td>\n    </tr>\n    <tr>\n      <th>254</th>\n      <td>254</td>\n      <td>Salalah</td>\n      <td>17.02</td>\n      <td>54.09</td>\n      <td>75.20</td>\n      <td>57</td>\n      <td>0</td>\n      <td>3.36</td>\n      <td>OM</td>\n      <td>1604965614</td>\n      <td></td>\n    </tr>\n    <tr>\n      <th>257</th>\n      <td>257</td>\n      <td>Kita</td>\n      <td>13.03</td>\n      <td>-9.49</td>\n      <td>76.30</td>\n      <td>30</td>\n      <td>0</td>\n      <td>4.72</td>\n      <td>ML</td>\n      <td>1604965817</td>\n      <td></td>\n    </tr>\n    <tr>\n      <th>290</th>\n      <td>290</td>\n      <td>Kiryat Gat</td>\n      <td>31.61</td>\n      <td>34.76</td>\n      <td>66.99</td>\n      <td>80</td>\n      <td>0</td>\n      <td>1.12</td>\n      <td>IL</td>\n      <td>1604965680</td>\n      <td></td>\n    </tr>\n    <tr>\n      <th>323</th>\n      <td>323</td>\n      <td>Siguiri</td>\n      <td>11.67</td>\n      <td>-9.50</td>\n      <td>75.51</td>\n      <td>32</td>\n      <td>0</td>\n      <td>1.95</td>\n      <td>GN</td>\n      <td>1604965832</td>\n      <td></td>\n    </tr>\n    <tr>\n      <th>380</th>\n      <td>380</td>\n      <td>Kousséri</td>\n      <td>12.08</td>\n      <td>15.03</td>\n      <td>69.80</td>\n      <td>46</td>\n      <td>0</td>\n      <td>3.36</td>\n      <td>CM</td>\n      <td>1604965844</td>\n      <td></td>\n    </tr>\n    <tr>\n      <th>383</th>\n      <td>383</td>\n      <td>Beloha</td>\n      <td>-25.17</td>\n      <td>45.05</td>\n      <td>71.91</td>\n      <td>63</td>\n      <td>0</td>\n      <td>6.42</td>\n      <td>MG</td>\n      <td>1604965845</td>\n      <td></td>\n    </tr>\n    <tr>\n      <th>400</th>\n      <td>400</td>\n      <td>Riyadh</td>\n      <td>24.69</td>\n      <td>46.72</td>\n      <td>73.40</td>\n      <td>46</td>\n      <td>0</td>\n      <td>5.82</td>\n      <td>SA</td>\n      <td>1604965849</td>\n      <td></td>\n    </tr>\n    <tr>\n      <th>409</th>\n      <td>409</td>\n      <td>Chiredzi</td>\n      <td>-21.05</td>\n      <td>31.67</td>\n      <td>77.58</td>\n      <td>54</td>\n      <td>0</td>\n      <td>7.61</td>\n      <td>ZW</td>\n      <td>1604965851</td>\n      <td></td>\n    </tr>\n    <tr>\n      <th>429</th>\n      <td>429</td>\n      <td>Angoche</td>\n      <td>-16.23</td>\n      <td>39.91</td>\n      <td>77.25</td>\n      <td>81</td>\n      <td>0</td>\n      <td>8.75</td>\n      <td>MZ</td>\n      <td>1604965856</td>\n      <td></td>\n    </tr>\n    <tr>\n      <th>435</th>\n      <td>435</td>\n      <td>Tezu</td>\n      <td>27.92</td>\n      <td>96.17</td>\n      <td>65.55</td>\n      <td>44</td>\n      <td>0</td>\n      <td>3.58</td>\n      <td>IN</td>\n      <td>1604965857</td>\n      <td></td>\n    </tr>\n    <tr>\n      <th>443</th>\n      <td>443</td>\n      <td>Kouroussa</td>\n      <td>10.65</td>\n      <td>-9.88</td>\n      <td>73.29</td>\n      <td>36</td>\n      <td>0</td>\n      <td>0.81</td>\n      <td>GN</td>\n      <td>1604965859</td>\n      <td></td>\n    </tr>\n    <tr>\n      <th>463</th>\n      <td>463</td>\n      <td>Saint-Pierre</td>\n      <td>-21.34</td>\n      <td>55.48</td>\n      <td>71.60</td>\n      <td>78</td>\n      <td>0</td>\n      <td>9.17</td>\n      <td>RE</td>\n      <td>1604965863</td>\n      <td></td>\n    </tr>\n    <tr>\n      <th>485</th>\n      <td>485</td>\n      <td>Sur</td>\n      <td>22.57</td>\n      <td>59.53</td>\n      <td>74.41</td>\n      <td>72</td>\n      <td>0</td>\n      <td>1.54</td>\n      <td>OM</td>\n      <td>1604965870</td>\n      <td></td>\n    </tr>\n    <tr>\n      <th>496</th>\n      <td>496</td>\n      <td>Rāzole</td>\n      <td>16.48</td>\n      <td>81.83</td>\n      <td>65.86</td>\n      <td>76</td>\n      <td>0</td>\n      <td>4.50</td>\n      <td>IN</td>\n      <td>1604965872</td>\n      <td></td>\n    </tr>\n    <tr>\n      <th>508</th>\n      <td>508</td>\n      <td>San Luis de la Paz</td>\n      <td>21.30</td>\n      <td>-100.52</td>\n      <td>68.47</td>\n      <td>37</td>\n      <td>0</td>\n      <td>6.40</td>\n      <td>MX</td>\n      <td>1604965875</td>\n      <td></td>\n    </tr>\n    <tr>\n      <th>511</th>\n      <td>511</td>\n      <td>Flinders</td>\n      <td>-34.58</td>\n      <td>150.86</td>\n      <td>69.01</td>\n      <td>62</td>\n      <td>0</td>\n      <td>5.01</td>\n      <td>AU</td>\n      <td>1604965876</td>\n      <td></td>\n    </tr>\n    <tr>\n      <th>555</th>\n      <td>555</td>\n      <td>Najrān</td>\n      <td>17.49</td>\n      <td>44.13</td>\n      <td>66.20</td>\n      <td>37</td>\n      <td>0</td>\n      <td>0.58</td>\n      <td>SA</td>\n      <td>1604965888</td>\n      <td></td>\n    </tr>\n    <tr>\n      <th>557</th>\n      <td>557</td>\n      <td>Mopti</td>\n      <td>14.67</td>\n      <td>-4.00</td>\n      <td>77.38</td>\n      <td>18</td>\n      <td>0</td>\n      <td>8.01</td>\n      <td>ML</td>\n      <td>1604965889</td>\n      <td></td>\n    </tr>\n  </tbody>\n</table>\n</div>"
     },
     "metadata": {},
     "execution_count": 4
    }
   ],
   "source": [
    "ideal_weather = pt1_df.copy()\n",
    "ideal_weather = ideal_weather.loc[(ideal_weather['Temp Max']>65) & (ideal_weather['Temp Max']<80) & (ideal_weather['Wind Speed']<10) & (ideal_weather['Cloudiness'] == 0)]\n",
    "ideal_weather[\"Hotel Name\"]=\"\"\n",
    "ideal_weather.dropna(inplace=True)\n",
    "ideal_weather\n"
   ]
  },
  {
   "cell_type": "code",
   "execution_count": 5,
   "metadata": {},
   "outputs": [
    {
     "output_type": "stream",
     "name": "stdout",
     "text": [
      "{'html_attributions': [], 'results': [], 'status': 'ZERO_RESULTS'}\n"
     ]
    }
   ],
   "source": [
    "import pprint as pp\n",
    "nearby_url = \"https://maps.googleapis.com/maps/api/place/nearbysearch/json\"\n",
    "params = {\n",
    "    \"key\": gkey,\n",
    "    \"type\": \"hotel\",\n",
    "    \"rankby\": \"distance\",\n",
    "}\n",
    "params['location'] = ('-25.17, 45.05')\n",
    "hotel_locations= requests.get(nearby_url,params=params).json()\n",
    "pp.pprint(hotel_locations)"
   ]
  },
  {
   "cell_type": "code",
   "execution_count": 6,
   "metadata": {},
   "outputs": [
    {
     "output_type": "execute_result",
     "data": {
      "text/plain": [
       "dict_keys(['html_attributions', 'results', 'status'])"
      ]
     },
     "metadata": {},
     "execution_count": 6
    }
   ],
   "source": [
    "hotel_locations.keys()"
   ]
  },
  {
   "cell_type": "code",
   "execution_count": 7,
   "metadata": {},
   "outputs": [
    {
     "output_type": "stream",
     "name": "stdout",
     "text": [
      "Hotel Found in Ocampo, MX! Check out Iglesia De San Juan Bosco\n",
      "Hotel Found in Kibala, TD! Check out Poste police de Balimba\n",
      "Hotel Found in Dubbo, AU! Check out ARTC\n",
      "Hotel Found in Qeshm, IR! Check out مسجد عثمان بن عفان )ملاموسی(\n",
      "Hotel Found in Arlit, NE! Check out مكن لشراء الذهب. محمد جبرين\n",
      "Hotel Found in Belmonte, BR! Check out Fundação Educacional Pedro Calmon\n",
      "Hotel Found in Comodoro Rivadavia, AR! Check out Gimnasio Municipal N 1\n",
      "Hotel Found in Saint-Philippe, RE! Check out Le Palmier\n",
      "Hotel Found in Canchungo, GW! Check out Casa Nasser\n",
      "Hotel Found in Sharjah city, AE! Check out Alhamadi Building\n",
      "Hotel Found in Taoudenni, ML! Check out Ksar de Smida\n",
      "Hotel Found in Abu Dhabi, AE! Check out Eburn\n",
      "Hotel Found in Ténenkou, ML! Check out Hopital\n",
      "Hotel Found in Salalah, OM! Check out المديرية العامة للماليه\n",
      "Hotel Found in Kita, ML! Check out Tamba Traorè\n",
      "Hotel Found in Kiryat Gat, IL! Check out שדרות גת 88 קרית גת\n",
      "Hotel Found in Kousséri, CM! Check out Sahara RealEstate\n",
      "Hotel Found in Riyadh, SA! Check out سلطان سليمان للتبريد والتكييف\n",
      "Hotel Found in Chiredzi, ZW! Check out Chiredzi Medical Centre\n",
      "Hotel Found in Angoche, MZ! Check out Boy's guest house\n",
      "Hotel Found in Tezu, IN! Check out IGG College Tezu\n",
      "Hotel Found in Kouroussa, GN! Check out Hotel Tando Plus\n",
      "Hotel Found in Saint-Pierre, RE! Check out Case à Pâtes\n",
      "Hotel Found in Sur, OM! Check out Arabian Sea Motel\n",
      "Hotel Found in Rāzole, IN! Check out Guest House\n",
      "Hotel Found in San Luis de la Paz, MX! Check out Cristalez y Aluminios \"La Paz\"\n",
      "Hotel Found in Flinders, AU! Check out Fire and Rescue NSW Shellharbour Fire Station\n",
      "Hotel Found in Najrān, SA! Check out شنطة سفر\n",
      "Hotel Found in Mopti, ML! Check out Tiaboly aldjouma\n"
     ]
    },
    {
     "output_type": "execute_result",
     "data": {
      "text/plain": [
       "     Unnamed: 0    City    Lat     Lon  Temp Max  Humidity  Cloudiness  \\\n",
       "9             9  Ocampo  21.65 -101.50     65.55        32           0   \n",
       "20           20  Kibala   9.11   18.35     73.40        83           0   \n",
       "65           65   Dubbo -32.25  148.62     71.60        49           0   \n",
       "84           84   Qeshm  26.96   56.27     71.60        88           0   \n",
       "103         103   Arlit  18.74    7.39     69.28        26           0   \n",
       "\n",
       "     Wind Speed Country        Date                    Hotel Name  \n",
       "9          6.40      MX  1604965756     Iglesia De San Juan Bosco  \n",
       "20         1.12      TD  1604965759       Poste police de Balimba  \n",
       "65         8.05      AU  1604965764                          ARTC  \n",
       "84         2.24      IR  1604965775  مسجد عثمان بن عفان )ملاموسی(  \n",
       "103        6.35      NE  1604965779   مكن لشراء الذهب. محمد جبرين  "
      ],
      "text/html": "<div>\n<style scoped>\n    .dataframe tbody tr th:only-of-type {\n        vertical-align: middle;\n    }\n\n    .dataframe tbody tr th {\n        vertical-align: top;\n    }\n\n    .dataframe thead th {\n        text-align: right;\n    }\n</style>\n<table border=\"1\" class=\"dataframe\">\n  <thead>\n    <tr style=\"text-align: right;\">\n      <th></th>\n      <th>Unnamed: 0</th>\n      <th>City</th>\n      <th>Lat</th>\n      <th>Lon</th>\n      <th>Temp Max</th>\n      <th>Humidity</th>\n      <th>Cloudiness</th>\n      <th>Wind Speed</th>\n      <th>Country</th>\n      <th>Date</th>\n      <th>Hotel Name</th>\n    </tr>\n  </thead>\n  <tbody>\n    <tr>\n      <th>9</th>\n      <td>9</td>\n      <td>Ocampo</td>\n      <td>21.65</td>\n      <td>-101.50</td>\n      <td>65.55</td>\n      <td>32</td>\n      <td>0</td>\n      <td>6.40</td>\n      <td>MX</td>\n      <td>1604965756</td>\n      <td>Iglesia De San Juan Bosco</td>\n    </tr>\n    <tr>\n      <th>20</th>\n      <td>20</td>\n      <td>Kibala</td>\n      <td>9.11</td>\n      <td>18.35</td>\n      <td>73.40</td>\n      <td>83</td>\n      <td>0</td>\n      <td>1.12</td>\n      <td>TD</td>\n      <td>1604965759</td>\n      <td>Poste police de Balimba</td>\n    </tr>\n    <tr>\n      <th>65</th>\n      <td>65</td>\n      <td>Dubbo</td>\n      <td>-32.25</td>\n      <td>148.62</td>\n      <td>71.60</td>\n      <td>49</td>\n      <td>0</td>\n      <td>8.05</td>\n      <td>AU</td>\n      <td>1604965764</td>\n      <td>ARTC</td>\n    </tr>\n    <tr>\n      <th>84</th>\n      <td>84</td>\n      <td>Qeshm</td>\n      <td>26.96</td>\n      <td>56.27</td>\n      <td>71.60</td>\n      <td>88</td>\n      <td>0</td>\n      <td>2.24</td>\n      <td>IR</td>\n      <td>1604965775</td>\n      <td>مسجد عثمان بن عفان )ملاموسی(</td>\n    </tr>\n    <tr>\n      <th>103</th>\n      <td>103</td>\n      <td>Arlit</td>\n      <td>18.74</td>\n      <td>7.39</td>\n      <td>69.28</td>\n      <td>26</td>\n      <td>0</td>\n      <td>6.35</td>\n      <td>NE</td>\n      <td>1604965779</td>\n      <td>مكن لشراء الذهب. محمد جبرين</td>\n    </tr>\n  </tbody>\n</table>\n</div>"
     },
     "metadata": {},
     "execution_count": 7
    }
   ],
   "source": [
    "for index, row in ideal_weather.iterrows():\n",
    "    lat = row['Lat']\n",
    "    lon = row['Lon']\n",
    "    params['location'] = ('{},{}'.format(lat, lon))\n",
    "    hotel_locations= requests.get(nearby_url,params=params).json()\n",
    "\n",
    "    if hotel_locations['status'] != \"ZERO_RESULTS\":  \n",
    "        ideal_weather.loc[index, 'Hotel Name'] = hotel_locations['results'][0]['name']\n",
    "        city_name = row[\"City\"]\n",
    "        country = row[\"Country\"]\n",
    "        hotel_name = hotel_locations['results'][0]['name']\n",
    "        print('Hotel Found in {}, {}! Check out {}'.format(city_name,country, hotel_name))\n",
    "    else: \n",
    "        pass\n",
    "\n",
    "    \n",
    "ideal_weather.head()\n"
   ]
  },
  {
   "cell_type": "markdown",
   "metadata": {},
   "source": [
    "### Hotel Map\n",
    "* Store into variable named `hotel_df`.\n",
    "* Add a \"Hotel Name\" column to the DataFrame.\n",
    "* Set parameters to search for hotels with 5000 meters.\n",
    "* Hit the Google Places API for each city's coordinates.\n",
    "* Store the first Hotel result into the DataFrame.\n",
    "* Plot markers on top of the heatmap."
   ]
  },
  {
   "cell_type": "code",
   "execution_count": null,
   "metadata": {},
   "outputs": [],
   "source": []
  },
  {
   "cell_type": "code",
   "execution_count": null,
   "metadata": {},
   "outputs": [],
   "source": []
  },
  {
   "cell_type": "code",
   "execution_count": 8,
   "metadata": {},
   "outputs": [],
   "source": [
    "# NOTE: Do not change any of the code in this cell\n",
    "\n",
    "# Using the template add the hotel marks to the heatmap\n",
    "info_box_template = \"\"\"\n",
    "<dl>\n",
    "<dt>Name</dt><dd>{Hotel Name}</dd>\n",
    "<dt>City</dt><dd>{City}</dd>\n",
    "<dt>Country</dt><dd>{Country}</dd>\n",
    "</dl>\n",
    "\"\"\"\n",
    "# Store the DataFrame Row\n",
    "# NOTE: be sure to update with your DataFrame name\n",
    "hotel_df = ideal_weather.copy()\n",
    "hotel_info = [info_box_template.format(**row) for index, row in hotel_df.iterrows()]\n",
    "locations = hotel_df[[\"Lat\", \"Lon\"]]"
   ]
  },
  {
   "cell_type": "code",
   "execution_count": 9,
   "metadata": {},
   "outputs": [
    {
     "output_type": "display_data",
     "data": {
      "text/plain": "Figure(layout=FigureLayout(border='1px solid black', height='500px', margin='0 auto 0 auto', padding='1px', wi…",
      "application/vnd.jupyter.widget-view+json": {
       "version_major": 2,
       "version_minor": 0,
       "model_id": "b25c93b75549424dbe629bee2e5189a7"
      }
     },
     "metadata": {}
    }
   ],
   "source": [
    "# Add marker layer ontop of heat map\n",
    "markers = gmaps.marker_layer(locations, info_box_content=hotel_info)\n",
    "# Add the layer to the map\n",
    "fig1.add_layer(markers)\n",
    "fig1\n",
    "\n",
    "# Display figure\n"
   ]
  },
  {
   "cell_type": "code",
   "execution_count": null,
   "metadata": {},
   "outputs": [],
   "source": []
  }
 ],
 "metadata": {
  "kernelspec": {
   "name": "Python 3.8.5 64-bit ('datavizprod': conda)",
   "display_name": "Python 3.8.5 64-bit ('datavizprod': conda)",
   "metadata": {
    "interpreter": {
     "hash": "b029dc0bf375b8998aa9027efd27666008bdbb4778f20a5670bf71af495827aa"
    }
   }
  },
  "language_info": {
   "codemirror_mode": {
    "name": "ipython",
    "version": 3
   },
   "file_extension": ".py",
   "mimetype": "text/x-python",
   "name": "python",
   "nbconvert_exporter": "python",
   "pygments_lexer": "ipython3",
   "version": "3.8.5-final"
  },
  "latex_envs": {
   "LaTeX_envs_menu_present": true,
   "autoclose": false,
   "autocomplete": true,
   "bibliofile": "biblio.bib",
   "cite_by": "apalike",
   "current_citInitial": 1,
   "eqLabelWithNumbers": true,
   "eqNumInitial": 1,
   "hotkeys": {
    "equation": "Ctrl-E",
    "itemize": "Ctrl-I"
   },
   "labels_anchors": false,
   "latex_user_defs": false,
   "report_style_numbering": false,
   "user_envs_cfg": false
  }
 },
 "nbformat": 4,
 "nbformat_minor": 4
}