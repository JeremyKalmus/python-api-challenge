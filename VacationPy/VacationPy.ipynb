{
 "cells": [
  {
   "cell_type": "markdown",
   "metadata": {},
   "source": [
    "# VacationPy\n",
    "----\n",
    "\n",
    "#### Note\n",
    "* Keep an eye on your API usage. Use https://developers.google.com/maps/reporting/gmp-reporting as reference for how to monitor your usage and billing.\n",
    "\n",
    "* Instructions have been included for each segment. You do not have to follow them exactly, but they are included to help you think through the steps."
   ]
  },
  {
   "cell_type": "code",
   "execution_count": 5,
   "metadata": {},
   "outputs": [],
   "source": [
    "# Dependencies and Setup\n",
    "import matplotlib.pyplot as plt\n",
    "import pandas as pd\n",
    "import numpy as np\n",
    "import requests\n",
    "import gmaps\n",
    "import os\n",
    "\n",
    "# Import API key\n",
    "from config import gkey"
   ]
  },
  {
   "cell_type": "markdown",
   "metadata": {},
   "source": [
    "### Store Part I results into DataFrame\n",
    "* Load the csv exported in Part I to a DataFrame"
   ]
  },
  {
   "cell_type": "code",
   "execution_count": 9,
   "metadata": {},
   "outputs": [
    {
     "output_type": "execute_result",
     "data": {
      "text/plain": [
       "   Unnamed: 0            City    Lat     Lon  Temp Max  Humidity  Cloudiness  \\\n",
       "0           0    Punta Arenas -53.15  -70.92     57.20        58          40   \n",
       "1           1          Kargil  34.57   76.10     23.85        69           0   \n",
       "2           2       Gushikawa  26.35  127.87     75.20       100           1   \n",
       "3           3  Saint-Philippe -21.36   55.77     71.60        77           0   \n",
       "4           4          Padang  -0.95  100.35     76.84        84         100   \n",
       "\n",
       "   Wind Speed Country        Date  \n",
       "0       32.21      CL  1604789626  \n",
       "1        1.36      IN  1604789693  \n",
       "2        6.93      JP  1604789693  \n",
       "3        5.82      RE  1604789694  \n",
       "4        5.79      ID  1604789694  "
      ],
      "text/html": "<div>\n<style scoped>\n    .dataframe tbody tr th:only-of-type {\n        vertical-align: middle;\n    }\n\n    .dataframe tbody tr th {\n        vertical-align: top;\n    }\n\n    .dataframe thead th {\n        text-align: right;\n    }\n</style>\n<table border=\"1\" class=\"dataframe\">\n  <thead>\n    <tr style=\"text-align: right;\">\n      <th></th>\n      <th>Unnamed: 0</th>\n      <th>City</th>\n      <th>Lat</th>\n      <th>Lon</th>\n      <th>Temp Max</th>\n      <th>Humidity</th>\n      <th>Cloudiness</th>\n      <th>Wind Speed</th>\n      <th>Country</th>\n      <th>Date</th>\n    </tr>\n  </thead>\n  <tbody>\n    <tr>\n      <th>0</th>\n      <td>0</td>\n      <td>Punta Arenas</td>\n      <td>-53.15</td>\n      <td>-70.92</td>\n      <td>57.20</td>\n      <td>58</td>\n      <td>40</td>\n      <td>32.21</td>\n      <td>CL</td>\n      <td>1604789626</td>\n    </tr>\n    <tr>\n      <th>1</th>\n      <td>1</td>\n      <td>Kargil</td>\n      <td>34.57</td>\n      <td>76.10</td>\n      <td>23.85</td>\n      <td>69</td>\n      <td>0</td>\n      <td>1.36</td>\n      <td>IN</td>\n      <td>1604789693</td>\n    </tr>\n    <tr>\n      <th>2</th>\n      <td>2</td>\n      <td>Gushikawa</td>\n      <td>26.35</td>\n      <td>127.87</td>\n      <td>75.20</td>\n      <td>100</td>\n      <td>1</td>\n      <td>6.93</td>\n      <td>JP</td>\n      <td>1604789693</td>\n    </tr>\n    <tr>\n      <th>3</th>\n      <td>3</td>\n      <td>Saint-Philippe</td>\n      <td>-21.36</td>\n      <td>55.77</td>\n      <td>71.60</td>\n      <td>77</td>\n      <td>0</td>\n      <td>5.82</td>\n      <td>RE</td>\n      <td>1604789694</td>\n    </tr>\n    <tr>\n      <th>4</th>\n      <td>4</td>\n      <td>Padang</td>\n      <td>-0.95</td>\n      <td>100.35</td>\n      <td>76.84</td>\n      <td>84</td>\n      <td>100</td>\n      <td>5.79</td>\n      <td>ID</td>\n      <td>1604789694</td>\n    </tr>\n  </tbody>\n</table>\n</div>"
     },
     "metadata": {},
     "execution_count": 9
    }
   ],
   "source": [
    "pt1_df = \"../WeatherPy/Cities_Output_JK.csv\"\n",
    "pt1_df = pd.read_csv(pt1_df)\n",
    "pt1_df.head()"
   ]
  },
  {
   "cell_type": "markdown",
   "metadata": {},
   "source": [
    "### Humidity Heatmap\n",
    "* Configure gmaps.\n",
    "* Use the Lat and Lng as locations and Humidity as the weight.\n",
    "* Add Heatmap layer to map."
   ]
  },
  {
   "cell_type": "code",
   "execution_count": 27,
   "metadata": {},
   "outputs": [
    {
     "output_type": "display_data",
     "data": {
      "text/plain": "Figure(layout=FigureLayout(border='1px solid black', height='500px', margin='0 auto 0 auto', padding='1px', wi…",
      "application/vnd.jupyter.widget-view+json": {
       "version_major": 2,
       "version_minor": 0,
       "model_id": "beeb1a1184974ca3a3f58a86c01ce0e6"
      }
     },
     "metadata": {}
    }
   ],
   "source": [
    "gmaps.configure(api_key=gkey)\n",
    "locations = pt1_df[['Lat', 'Lon']].astype(float).round(3)\n",
    "\n",
    "figure_layout = {\n",
    "    'width': '600px',\n",
    "    'height': '500px',\n",
    "    'border': '1px solid black',\n",
    "    'padding': '1px',\n",
    "    'margin': '0 auto 0 auto'\n",
    "}\n",
    "fig = gmaps.figure(layout=figure_layout)\n",
    "\n",
    "markers = gmaps.marker_layer(locations)\n",
    "# Add the layer to the map\n",
    "fig1 = gmaps.figure(layout=figure_layout, map_type='ROADMAP')\n",
    "heatmap_layer = gmaps.heatmap_layer(\n",
    "    pt1_df[['Lat', 'Lon']], weights=pt1_df[\"Humidity\"],\n",
    "    max_intensity=.75, point_radius=3.5, dissipating=False\n",
    ")\n",
    "fig1.add_layer(heatmap_layer)\n",
    "fig1\n",
    "\n",
    "\n",
    "\n",
    "\n",
    "\n"
   ]
  },
  {
   "cell_type": "code",
   "execution_count": null,
   "metadata": {},
   "outputs": [],
   "source": []
  },
  {
   "cell_type": "markdown",
   "metadata": {},
   "source": [
    "### Create new DataFrame fitting weather criteria\n",
    "* Narrow down the cities to fit weather conditions.\n",
    "* Drop any rows will null values."
   ]
  },
  {
   "cell_type": "code",
   "execution_count": 58,
   "metadata": {},
   "outputs": [
    {
     "output_type": "execute_result",
     "data": {
      "text/plain": [
       "     Unnamed: 0                   City    Lat     Lon  Temp Max  Humidity  \\\n",
       "3             3         Saint-Philippe -21.36   55.77     71.60        77   \n",
       "30           30              Coyhaique -45.58  -72.07     66.20        37   \n",
       "58           58  Los Llanos de Aridane  28.66  -17.92     66.20        68   \n",
       "115         115             Middelburg -25.78   29.46     71.91        30   \n",
       "136         136               Ampanihy -24.70   44.75     74.01        55   \n",
       "169         169                Orodara  10.95   -4.93     77.00        50   \n",
       "212         212                Iquique -20.22  -70.14     66.20        59   \n",
       "218         218                Cayenne   4.93  -52.33     78.80       100   \n",
       "222         222                Labuhan  -6.88  112.21     78.85        80   \n",
       "237         237         Biritiba-Mirim -23.57  -46.04     72.00        82   \n",
       "243         243                  Mīnāb  27.15   57.08     69.80        77   \n",
       "256         256                  Mopti  14.67   -4.00     79.39        16   \n",
       "258         258           Saint-Pierre -21.34   55.48     69.80        77   \n",
       "283         283                Kasempa -13.46   25.83     70.27        28   \n",
       "307         307                 Riyadh  24.69   46.72     68.00        37   \n",
       "311         311                 Salima -13.78   34.46     77.79        47   \n",
       "335         335                    Sur  22.57   59.53     75.90        71   \n",
       "373         373                 Matara   5.95   80.54     76.48        87   \n",
       "383         383                Salalah  17.02   54.09     73.40        64   \n",
       "388         388                 Sittwe  20.15   92.90     75.69        89   \n",
       "396         396           Saint-Joseph -21.37   55.62     69.80        77   \n",
       "399         399               Douentza  15.00   -2.95     77.43        17   \n",
       "423         423           Mae Hong Son  19.30   97.97     69.28        82   \n",
       "451         451                 Beloha -25.17   45.05     71.96        66   \n",
       "487         487                   Johi  26.69   67.61     68.90        25   \n",
       "531         531                 Mwense -10.38   28.70     70.95        60   \n",
       "533         533                 Najrān  17.49   44.13     66.20        29   \n",
       "\n",
       "     Cloudiness  Wind Speed Country        Date Hotel Name  \n",
       "3             0        5.82      RE  1604789694             \n",
       "30            0        8.05      CL  1604789701             \n",
       "58            0        8.05      ES  1604789709             \n",
       "115           0        3.91      ZA  1604789722             \n",
       "136           0        2.28      MG  1604789727             \n",
       "169           0        2.24      BF  1604789735             \n",
       "212           0        8.05      CL  1604789466             \n",
       "218           0        3.36      GF  1604789648             \n",
       "222           0        9.10      ID  1604789748             \n",
       "237           0        5.82      BR  1604789525             \n",
       "243           0        6.93      IR  1604789754             \n",
       "256           0        8.88      ML  1604789757             \n",
       "258           0        5.82      RE  1604789757             \n",
       "283           0        4.61      ZM  1604789764             \n",
       "307           0        2.24      SA  1604789769             \n",
       "311           0        2.08      MW  1604789770             \n",
       "335           0        7.87      OM  1604789775             \n",
       "373           0        5.14      LK  1604789784             \n",
       "383           0        3.36      OM  1604789786             \n",
       "388           0        6.49      MM  1604789787             \n",
       "396           0        5.82      RE  1604789789             \n",
       "399           0        5.46      ML  1604789790             \n",
       "423           0        1.90      TH  1604789795             \n",
       "451           0        5.03      MG  1604789801             \n",
       "487           0        2.46      PK  1604789809             \n",
       "531           0        3.06      ZM  1604789820             \n",
       "533           0        1.54      SA  1604789820             "
      ],
      "text/html": "<div>\n<style scoped>\n    .dataframe tbody tr th:only-of-type {\n        vertical-align: middle;\n    }\n\n    .dataframe tbody tr th {\n        vertical-align: top;\n    }\n\n    .dataframe thead th {\n        text-align: right;\n    }\n</style>\n<table border=\"1\" class=\"dataframe\">\n  <thead>\n    <tr style=\"text-align: right;\">\n      <th></th>\n      <th>Unnamed: 0</th>\n      <th>City</th>\n      <th>Lat</th>\n      <th>Lon</th>\n      <th>Temp Max</th>\n      <th>Humidity</th>\n      <th>Cloudiness</th>\n      <th>Wind Speed</th>\n      <th>Country</th>\n      <th>Date</th>\n      <th>Hotel Name</th>\n    </tr>\n  </thead>\n  <tbody>\n    <tr>\n      <th>3</th>\n      <td>3</td>\n      <td>Saint-Philippe</td>\n      <td>-21.36</td>\n      <td>55.77</td>\n      <td>71.60</td>\n      <td>77</td>\n      <td>0</td>\n      <td>5.82</td>\n      <td>RE</td>\n      <td>1604789694</td>\n      <td></td>\n    </tr>\n    <tr>\n      <th>30</th>\n      <td>30</td>\n      <td>Coyhaique</td>\n      <td>-45.58</td>\n      <td>-72.07</td>\n      <td>66.20</td>\n      <td>37</td>\n      <td>0</td>\n      <td>8.05</td>\n      <td>CL</td>\n      <td>1604789701</td>\n      <td></td>\n    </tr>\n    <tr>\n      <th>58</th>\n      <td>58</td>\n      <td>Los Llanos de Aridane</td>\n      <td>28.66</td>\n      <td>-17.92</td>\n      <td>66.20</td>\n      <td>68</td>\n      <td>0</td>\n      <td>8.05</td>\n      <td>ES</td>\n      <td>1604789709</td>\n      <td></td>\n    </tr>\n    <tr>\n      <th>115</th>\n      <td>115</td>\n      <td>Middelburg</td>\n      <td>-25.78</td>\n      <td>29.46</td>\n      <td>71.91</td>\n      <td>30</td>\n      <td>0</td>\n      <td>3.91</td>\n      <td>ZA</td>\n      <td>1604789722</td>\n      <td></td>\n    </tr>\n    <tr>\n      <th>136</th>\n      <td>136</td>\n      <td>Ampanihy</td>\n      <td>-24.70</td>\n      <td>44.75</td>\n      <td>74.01</td>\n      <td>55</td>\n      <td>0</td>\n      <td>2.28</td>\n      <td>MG</td>\n      <td>1604789727</td>\n      <td></td>\n    </tr>\n    <tr>\n      <th>169</th>\n      <td>169</td>\n      <td>Orodara</td>\n      <td>10.95</td>\n      <td>-4.93</td>\n      <td>77.00</td>\n      <td>50</td>\n      <td>0</td>\n      <td>2.24</td>\n      <td>BF</td>\n      <td>1604789735</td>\n      <td></td>\n    </tr>\n    <tr>\n      <th>212</th>\n      <td>212</td>\n      <td>Iquique</td>\n      <td>-20.22</td>\n      <td>-70.14</td>\n      <td>66.20</td>\n      <td>59</td>\n      <td>0</td>\n      <td>8.05</td>\n      <td>CL</td>\n      <td>1604789466</td>\n      <td></td>\n    </tr>\n    <tr>\n      <th>218</th>\n      <td>218</td>\n      <td>Cayenne</td>\n      <td>4.93</td>\n      <td>-52.33</td>\n      <td>78.80</td>\n      <td>100</td>\n      <td>0</td>\n      <td>3.36</td>\n      <td>GF</td>\n      <td>1604789648</td>\n      <td></td>\n    </tr>\n    <tr>\n      <th>222</th>\n      <td>222</td>\n      <td>Labuhan</td>\n      <td>-6.88</td>\n      <td>112.21</td>\n      <td>78.85</td>\n      <td>80</td>\n      <td>0</td>\n      <td>9.10</td>\n      <td>ID</td>\n      <td>1604789748</td>\n      <td></td>\n    </tr>\n    <tr>\n      <th>237</th>\n      <td>237</td>\n      <td>Biritiba-Mirim</td>\n      <td>-23.57</td>\n      <td>-46.04</td>\n      <td>72.00</td>\n      <td>82</td>\n      <td>0</td>\n      <td>5.82</td>\n      <td>BR</td>\n      <td>1604789525</td>\n      <td></td>\n    </tr>\n    <tr>\n      <th>243</th>\n      <td>243</td>\n      <td>Mīnāb</td>\n      <td>27.15</td>\n      <td>57.08</td>\n      <td>69.80</td>\n      <td>77</td>\n      <td>0</td>\n      <td>6.93</td>\n      <td>IR</td>\n      <td>1604789754</td>\n      <td></td>\n    </tr>\n    <tr>\n      <th>256</th>\n      <td>256</td>\n      <td>Mopti</td>\n      <td>14.67</td>\n      <td>-4.00</td>\n      <td>79.39</td>\n      <td>16</td>\n      <td>0</td>\n      <td>8.88</td>\n      <td>ML</td>\n      <td>1604789757</td>\n      <td></td>\n    </tr>\n    <tr>\n      <th>258</th>\n      <td>258</td>\n      <td>Saint-Pierre</td>\n      <td>-21.34</td>\n      <td>55.48</td>\n      <td>69.80</td>\n      <td>77</td>\n      <td>0</td>\n      <td>5.82</td>\n      <td>RE</td>\n      <td>1604789757</td>\n      <td></td>\n    </tr>\n    <tr>\n      <th>283</th>\n      <td>283</td>\n      <td>Kasempa</td>\n      <td>-13.46</td>\n      <td>25.83</td>\n      <td>70.27</td>\n      <td>28</td>\n      <td>0</td>\n      <td>4.61</td>\n      <td>ZM</td>\n      <td>1604789764</td>\n      <td></td>\n    </tr>\n    <tr>\n      <th>307</th>\n      <td>307</td>\n      <td>Riyadh</td>\n      <td>24.69</td>\n      <td>46.72</td>\n      <td>68.00</td>\n      <td>37</td>\n      <td>0</td>\n      <td>2.24</td>\n      <td>SA</td>\n      <td>1604789769</td>\n      <td></td>\n    </tr>\n    <tr>\n      <th>311</th>\n      <td>311</td>\n      <td>Salima</td>\n      <td>-13.78</td>\n      <td>34.46</td>\n      <td>77.79</td>\n      <td>47</td>\n      <td>0</td>\n      <td>2.08</td>\n      <td>MW</td>\n      <td>1604789770</td>\n      <td></td>\n    </tr>\n    <tr>\n      <th>335</th>\n      <td>335</td>\n      <td>Sur</td>\n      <td>22.57</td>\n      <td>59.53</td>\n      <td>75.90</td>\n      <td>71</td>\n      <td>0</td>\n      <td>7.87</td>\n      <td>OM</td>\n      <td>1604789775</td>\n      <td></td>\n    </tr>\n    <tr>\n      <th>373</th>\n      <td>373</td>\n      <td>Matara</td>\n      <td>5.95</td>\n      <td>80.54</td>\n      <td>76.48</td>\n      <td>87</td>\n      <td>0</td>\n      <td>5.14</td>\n      <td>LK</td>\n      <td>1604789784</td>\n      <td></td>\n    </tr>\n    <tr>\n      <th>383</th>\n      <td>383</td>\n      <td>Salalah</td>\n      <td>17.02</td>\n      <td>54.09</td>\n      <td>73.40</td>\n      <td>64</td>\n      <td>0</td>\n      <td>3.36</td>\n      <td>OM</td>\n      <td>1604789786</td>\n      <td></td>\n    </tr>\n    <tr>\n      <th>388</th>\n      <td>388</td>\n      <td>Sittwe</td>\n      <td>20.15</td>\n      <td>92.90</td>\n      <td>75.69</td>\n      <td>89</td>\n      <td>0</td>\n      <td>6.49</td>\n      <td>MM</td>\n      <td>1604789787</td>\n      <td></td>\n    </tr>\n    <tr>\n      <th>396</th>\n      <td>396</td>\n      <td>Saint-Joseph</td>\n      <td>-21.37</td>\n      <td>55.62</td>\n      <td>69.80</td>\n      <td>77</td>\n      <td>0</td>\n      <td>5.82</td>\n      <td>RE</td>\n      <td>1604789789</td>\n      <td></td>\n    </tr>\n    <tr>\n      <th>399</th>\n      <td>399</td>\n      <td>Douentza</td>\n      <td>15.00</td>\n      <td>-2.95</td>\n      <td>77.43</td>\n      <td>17</td>\n      <td>0</td>\n      <td>5.46</td>\n      <td>ML</td>\n      <td>1604789790</td>\n      <td></td>\n    </tr>\n    <tr>\n      <th>423</th>\n      <td>423</td>\n      <td>Mae Hong Son</td>\n      <td>19.30</td>\n      <td>97.97</td>\n      <td>69.28</td>\n      <td>82</td>\n      <td>0</td>\n      <td>1.90</td>\n      <td>TH</td>\n      <td>1604789795</td>\n      <td></td>\n    </tr>\n    <tr>\n      <th>451</th>\n      <td>451</td>\n      <td>Beloha</td>\n      <td>-25.17</td>\n      <td>45.05</td>\n      <td>71.96</td>\n      <td>66</td>\n      <td>0</td>\n      <td>5.03</td>\n      <td>MG</td>\n      <td>1604789801</td>\n      <td></td>\n    </tr>\n    <tr>\n      <th>487</th>\n      <td>487</td>\n      <td>Johi</td>\n      <td>26.69</td>\n      <td>67.61</td>\n      <td>68.90</td>\n      <td>25</td>\n      <td>0</td>\n      <td>2.46</td>\n      <td>PK</td>\n      <td>1604789809</td>\n      <td></td>\n    </tr>\n    <tr>\n      <th>531</th>\n      <td>531</td>\n      <td>Mwense</td>\n      <td>-10.38</td>\n      <td>28.70</td>\n      <td>70.95</td>\n      <td>60</td>\n      <td>0</td>\n      <td>3.06</td>\n      <td>ZM</td>\n      <td>1604789820</td>\n      <td></td>\n    </tr>\n    <tr>\n      <th>533</th>\n      <td>533</td>\n      <td>Najrān</td>\n      <td>17.49</td>\n      <td>44.13</td>\n      <td>66.20</td>\n      <td>29</td>\n      <td>0</td>\n      <td>1.54</td>\n      <td>SA</td>\n      <td>1604789820</td>\n      <td></td>\n    </tr>\n  </tbody>\n</table>\n</div>"
     },
     "metadata": {},
     "execution_count": 58
    }
   ],
   "source": [
    "ideal_weather = pt1_df.copy()\n",
    "ideal_weather = ideal_weather.loc[(ideal_weather['Temp Max']>65) & (ideal_weather['Temp Max']<80) & (ideal_weather['Wind Speed']<10) & (ideal_weather['Cloudiness'] == 0)]\n",
    "ideal_weather[\"Hotel Name\"]=\"\"\n",
    "ideal_weather.dropna(inplace=True)\n",
    "ideal_weather\n"
   ]
  },
  {
   "cell_type": "code",
   "execution_count": 59,
   "metadata": {},
   "outputs": [
    {
     "output_type": "stream",
     "name": "stdout",
     "text": [
      "{'html_attributions': [], 'results': [], 'status': 'ZERO_RESULTS'}\n"
     ]
    }
   ],
   "source": [
    "import pprint as pp\n",
    "nearby_url = \"https://maps.googleapis.com/maps/api/place/nearbysearch/json\"\n",
    "params = {\n",
    "    \"key\": gkey,\n",
    "    \"type\": \"hotel\",\n",
    "    \"rankby\": \"distance\",\n",
    "}\n",
    "params['location'] = ('-25.17, 45.05')\n",
    "hotel_locations= requests.get(nearby_url,params=params).json()\n",
    "pp.pprint(hotel_locations)"
   ]
  },
  {
   "cell_type": "code",
   "execution_count": 43,
   "metadata": {},
   "outputs": [
    {
     "output_type": "execute_result",
     "data": {
      "text/plain": [
       "dict_keys(['html_attributions', 'next_page_token', 'results', 'status'])"
      ]
     },
     "metadata": {},
     "execution_count": 43
    }
   ],
   "source": [
    "hotel_locations.keys()"
   ]
  },
  {
   "cell_type": "code",
   "execution_count": 61,
   "metadata": {},
   "outputs": [
    {
     "output_type": "stream",
     "name": "stdout",
     "text": [
      "Hotel Found in Saint-Philippe, RE! Check out Le Palmier\n",
      "Hotel Found in Coyhaique, CL! Check out Melville Consultores Ltda\n",
      "Hotel Found in Los Llanos de Aridane, ES! Check out Peluquería Estilo.\n",
      "Hotel Found in Middelburg, ZA! Check out The Plantation Guest House\n",
      "Hotel Found in Ampanihy, MG! Check out Palais De La Justice\n",
      "Hotel Found in Orodara, BF! Check out DIWAL INDUSTRIE\n",
      "Hotel Found in Iquique, CL! Check out House of Contreras\n",
      "Hotel Found in Cayenne, GF! Check out Association Musulmane Ahmadiyya Guyane\n",
      "Hotel Found in Labuhan, ID! Check out tailor mbak sri\n",
      "Hotel Found in Biritiba-Mirim, BR! Check out PRIME CLUB / DANIELLE OLIVEIRA\n",
      "Hotel Found in Mīnāb, IR! Check out Danesh Pathology Laboratory\n",
      "Hotel Found in Mopti, ML! Check out Tiaboly aldjouma\n",
      "Hotel Found in Saint-Pierre, RE! Check out Case à Pâtes\n",
      "Hotel Found in Kasempa, ZM! Check out KASEMPA MAIN SEVENTH DAY ADVENTIST CHURCH\n",
      "Hotel Found in Riyadh, SA! Check out سلطان سليمان للتبريد والتكييف\n",
      "Hotel Found in Salima, MW! Check out LoveDriven Ministries\n",
      "Hotel Found in Sur, OM! Check out Arabian Sea Motel\n",
      "Hotel Found in Matara, LK! Check out DKW Industries\n",
      "Hotel Found in Salalah, OM! Check out المديرية العامة للماليه\n",
      "Hotel Found in Sittwe, MM! Check out Sittwe Mobile Fammily\n",
      "Hotel Found in Saint-Joseph, RE! Check out The Bird House\n",
      "Hotel Found in Douentza, ML! Check out Boutique GUINDO\n",
      "Hotel Found in Mae Hong Son, TH! Check out มดซ่า หนังสือเช่า\n",
      "Hotel Found in Johi, PK! Check out Abdullah Laghari Shopping Center\n",
      "Hotel Found in Mwense, ZM! Check out The Bmc\n",
      "Hotel Found in Najrān, SA! Check out شنطة سفر\n"
     ]
    },
    {
     "output_type": "execute_result",
     "data": {
      "text/plain": [
       "     Unnamed: 0                   City    Lat    Lon  Temp Max  Humidity  \\\n",
       "3             3         Saint-Philippe -21.36  55.77     71.60        77   \n",
       "30           30              Coyhaique -45.58 -72.07     66.20        37   \n",
       "58           58  Los Llanos de Aridane  28.66 -17.92     66.20        68   \n",
       "115         115             Middelburg -25.78  29.46     71.91        30   \n",
       "136         136               Ampanihy -24.70  44.75     74.01        55   \n",
       "\n",
       "     Cloudiness  Wind Speed Country        Date                  Hotel Name  \n",
       "3             0        5.82      RE  1604789694                  Le Palmier  \n",
       "30            0        8.05      CL  1604789701   Melville Consultores Ltda  \n",
       "58            0        8.05      ES  1604789709          Peluquería Estilo.  \n",
       "115           0        3.91      ZA  1604789722  The Plantation Guest House  \n",
       "136           0        2.28      MG  1604789727        Palais De La Justice  "
      ],
      "text/html": "<div>\n<style scoped>\n    .dataframe tbody tr th:only-of-type {\n        vertical-align: middle;\n    }\n\n    .dataframe tbody tr th {\n        vertical-align: top;\n    }\n\n    .dataframe thead th {\n        text-align: right;\n    }\n</style>\n<table border=\"1\" class=\"dataframe\">\n  <thead>\n    <tr style=\"text-align: right;\">\n      <th></th>\n      <th>Unnamed: 0</th>\n      <th>City</th>\n      <th>Lat</th>\n      <th>Lon</th>\n      <th>Temp Max</th>\n      <th>Humidity</th>\n      <th>Cloudiness</th>\n      <th>Wind Speed</th>\n      <th>Country</th>\n      <th>Date</th>\n      <th>Hotel Name</th>\n    </tr>\n  </thead>\n  <tbody>\n    <tr>\n      <th>3</th>\n      <td>3</td>\n      <td>Saint-Philippe</td>\n      <td>-21.36</td>\n      <td>55.77</td>\n      <td>71.60</td>\n      <td>77</td>\n      <td>0</td>\n      <td>5.82</td>\n      <td>RE</td>\n      <td>1604789694</td>\n      <td>Le Palmier</td>\n    </tr>\n    <tr>\n      <th>30</th>\n      <td>30</td>\n      <td>Coyhaique</td>\n      <td>-45.58</td>\n      <td>-72.07</td>\n      <td>66.20</td>\n      <td>37</td>\n      <td>0</td>\n      <td>8.05</td>\n      <td>CL</td>\n      <td>1604789701</td>\n      <td>Melville Consultores Ltda</td>\n    </tr>\n    <tr>\n      <th>58</th>\n      <td>58</td>\n      <td>Los Llanos de Aridane</td>\n      <td>28.66</td>\n      <td>-17.92</td>\n      <td>66.20</td>\n      <td>68</td>\n      <td>0</td>\n      <td>8.05</td>\n      <td>ES</td>\n      <td>1604789709</td>\n      <td>Peluquería Estilo.</td>\n    </tr>\n    <tr>\n      <th>115</th>\n      <td>115</td>\n      <td>Middelburg</td>\n      <td>-25.78</td>\n      <td>29.46</td>\n      <td>71.91</td>\n      <td>30</td>\n      <td>0</td>\n      <td>3.91</td>\n      <td>ZA</td>\n      <td>1604789722</td>\n      <td>The Plantation Guest House</td>\n    </tr>\n    <tr>\n      <th>136</th>\n      <td>136</td>\n      <td>Ampanihy</td>\n      <td>-24.70</td>\n      <td>44.75</td>\n      <td>74.01</td>\n      <td>55</td>\n      <td>0</td>\n      <td>2.28</td>\n      <td>MG</td>\n      <td>1604789727</td>\n      <td>Palais De La Justice</td>\n    </tr>\n  </tbody>\n</table>\n</div>"
     },
     "metadata": {},
     "execution_count": 61
    }
   ],
   "source": [
    "for index, row in ideal_weather.iterrows():\n",
    "    lat = row['Lat']\n",
    "    lon = row['Lon']\n",
    "    params['location'] = ('{},{}'.format(lat, lon))\n",
    "    hotel_locations= requests.get(nearby_url,params=params).json()\n",
    "\n",
    "    if hotel_locations['status'] != \"ZERO_RESULTS\":  \n",
    "        ideal_weather.loc[index, 'Hotel Name'] = hotel_locations['results'][0]['name']\n",
    "        city_name = row[\"City\"]\n",
    "        country = row[\"Country\"]\n",
    "        hotel_name = hotel_locations['results'][0]['name']\n",
    "        print('Hotel Found in {}, {}! Check out {}'.format(city_name,country, hotel_name))\n",
    "    else: \n",
    "        pass\n",
    "\n",
    "    \n",
    "ideal_weather.head()\n"
   ]
  },
  {
   "cell_type": "markdown",
   "metadata": {},
   "source": [
    "### Hotel Map\n",
    "* Store into variable named `hotel_df`.\n",
    "* Add a \"Hotel Name\" column to the DataFrame.\n",
    "* Set parameters to search for hotels with 5000 meters.\n",
    "* Hit the Google Places API for each city's coordinates.\n",
    "* Store the first Hotel result into the DataFrame.\n",
    "* Plot markers on top of the heatmap."
   ]
  },
  {
   "cell_type": "code",
   "execution_count": null,
   "metadata": {},
   "outputs": [],
   "source": []
  },
  {
   "cell_type": "code",
   "execution_count": null,
   "metadata": {},
   "outputs": [],
   "source": []
  },
  {
   "cell_type": "code",
   "execution_count": 72,
   "metadata": {},
   "outputs": [],
   "source": [
    "# NOTE: Do not change any of the code in this cell\n",
    "\n",
    "# Using the template add the hotel marks to the heatmap\n",
    "info_box_template = \"\"\"\n",
    "<dl>\n",
    "<dt>Name</dt><dd>{Hotel Name}</dd>\n",
    "<dt>City</dt><dd>{City}</dd>\n",
    "<dt>Country</dt><dd>{Country}</dd>\n",
    "</dl>\n",
    "\"\"\"\n",
    "# Store the DataFrame Row\n",
    "# NOTE: be sure to update with your DataFrame name\n",
    "hotel_df = ideal_weather.copy()\n",
    "hotel_info = [info_box_template.format(**row) for index, row in hotel_df.iterrows()]\n",
    "locations = hotel_df[[\"Lat\", \"Lon\"]]"
   ]
  },
  {
   "cell_type": "code",
   "execution_count": 73,
   "metadata": {},
   "outputs": [
    {
     "output_type": "display_data",
     "data": {
      "text/plain": "Figure(layout=FigureLayout(border='1px solid black', height='500px', margin='0 auto 0 auto', padding='1px', wi…",
      "application/vnd.jupyter.widget-view+json": {
       "version_major": 2,
       "version_minor": 0,
       "model_id": "beeb1a1184974ca3a3f58a86c01ce0e6"
      }
     },
     "metadata": {}
    }
   ],
   "source": [
    "# Add marker layer ontop of heat map\n",
    "markers = gmaps.marker_layer(locations, info_box_content=hotel_info)\n",
    "# Add the layer to the map\n",
    "fig1.add_layer(markers)\n",
    "fig1\n",
    "\n",
    "# Display figure\n"
   ]
  },
  {
   "cell_type": "code",
   "execution_count": null,
   "metadata": {},
   "outputs": [],
   "source": []
  }
 ],
 "metadata": {
  "kernelspec": {
   "name": "Python 3.8.5 64-bit ('datavizprod': conda)",
   "display_name": "Python 3.8.5 64-bit ('datavizprod': conda)",
   "metadata": {
    "interpreter": {
     "hash": "b029dc0bf375b8998aa9027efd27666008bdbb4778f20a5670bf71af495827aa"
    }
   }
  },
  "language_info": {
   "codemirror_mode": {
    "name": "ipython",
    "version": 3
   },
   "file_extension": ".py",
   "mimetype": "text/x-python",
   "name": "python",
   "nbconvert_exporter": "python",
   "pygments_lexer": "ipython3",
   "version": "3.8.5-final"
  },
  "latex_envs": {
   "LaTeX_envs_menu_present": true,
   "autoclose": false,
   "autocomplete": true,
   "bibliofile": "biblio.bib",
   "cite_by": "apalike",
   "current_citInitial": 1,
   "eqLabelWithNumbers": true,
   "eqNumInitial": 1,
   "hotkeys": {
    "equation": "Ctrl-E",
    "itemize": "Ctrl-I"
   },
   "labels_anchors": false,
   "latex_user_defs": false,
   "report_style_numbering": false,
   "user_envs_cfg": false
  }
 },
 "nbformat": 4,
 "nbformat_minor": 4
}